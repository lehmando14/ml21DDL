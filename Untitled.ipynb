{
 "cells": [
  {
   "cell_type": "code",
   "execution_count": 1,
   "metadata": {},
   "outputs": [],
   "source": [
    "import numpy as np\n",
    "import matplotlib.pyplot as plt\n",
    "from sklearn.linear_model import RidgeCV\n",
    "from sklearn.metrics import mean_squared_error\n",
    "\n",
    "train = np.genfromtxt('train.csv', delimiter=\",\")\n",
    "y = train[1:,1]\n",
    "train = np.delete(train,0,0)\n",
    "train = np.delete(train,0,1)\n",
    "train = np.delete(train,0,1)\n",
    "reg = RidgeCV(alphas=[0.1,1,10,100,200], cv=10).fit(train,y)"
   ]
  },
  {
   "cell_type": "code",
   "execution_count": 2,
   "metadata": {},
   "outputs": [],
   "source": [
    "y_pred = reg.predict(train)"
   ]
  },
  {
   "cell_type": "code",
   "execution_count": 1,
   "metadata": {},
   "outputs": [
    {
     "name": "stdout",
     "output_type": "stream",
     "text": [
      "[6.298362280066786, 6.305309324992955, 6.3173240089946505, 6.359973928955519, 6.378179377661433]\n"
     ]
    }
   ],
   "source": [
    "import numpy as np\n",
    "import matplotlib.pyplot as plt\n",
    "from sklearn.linear_model import RidgeCV\n",
    "from sklearn.metrics import mean_squared_error\n",
    "\n",
    "landa = [0.1,1,10,100,200]\n",
    "r = [0,0,0,0,0]\n",
    "\n",
    "for i in range(0,5):\n",
    "    train = np.genfromtxt('train.csv', delimiter=\",\")\n",
    "    y = train[1:,1]\n",
    "    train = np.delete(train,0,0)\n",
    "    train = np.delete(train,0,1)\n",
    "    train = np.delete(train,0,1)\n",
    "    reg = RidgeCV(alphas=[landa[i]], cv=10).fit(train,y)\n",
    "    y_pred = reg.predict(train)\n",
    "    r[i] = mean_squared_error(y,y_pred)**0.5\n",
    "    \n",
    "print(r)"
   ]
  },
  {
   "cell_type": "code",
   "execution_count": 2,
   "metadata": {},
   "outputs": [],
   "source": [
    "np.savetxt('submission.csv',r, fmt='%.15f', delimiter=\",\",comments='')"
   ]
  },
  {
   "cell_type": "code",
   "execution_count": null,
   "metadata": {},
   "outputs": [],
   "source": []
  }
 ],
 "metadata": {
  "kernelspec": {
   "display_name": "Python 3",
   "language": "python",
   "name": "python3"
  },
  "language_info": {
   "codemirror_mode": {
    "name": "ipython",
    "version": 3
   },
   "file_extension": ".py",
   "mimetype": "text/x-python",
   "name": "python",
   "nbconvert_exporter": "python",
   "pygments_lexer": "ipython3",
   "version": "3.7.4"
  }
 },
 "nbformat": 4,
 "nbformat_minor": 2
}
