{
 "cells": [
  {
   "cell_type": "code",
   "execution_count": 60,
   "metadata": {},
   "outputs": [],
   "source": [
    "import pandas as pd\n",
    "import numpy as np\n",
    "import math\n",
    "from sklearn import svm\n",
    "from sklearn import preprocessing\n",
    "from sklearn.impute import SimpleImputer\n",
    "from sklearn.metrics import roc_auc_score\n",
    "from sklearn.kernel_ridge import KernelRidge\n",
    "\n",
    "##init X train         \n",
    "X = pd.read_csv(\"train_features.csv\")\n",
    "\n",
    "##init y train\n",
    "y = pd.read_csv(\"train_labels.csv\")\n",
    "\n",
    "##init X train\n",
    "X_test = pd.read_csv(\"test_features.csv\")\n",
    "\n",
    "\n",
    "##sometimes overflows\n",
    "def sigmoid(x):\n",
    "    sig = (1 / (1 + np.exp(-x)))\n",
    "    return sig\n",
    "\n",
    "sigmoid_v = np.vectorize(sigmoid)\n",
    "\n",
    "##returns indices for all the specified labels\n",
    "def label_to_ind(df, label_list):\n",
    "    index = []\n",
    "    for i in label_list:\n",
    "        index += [df.columns.get_loc(i)]\n",
    "    return index\n",
    "\n",
    "##random oversampling function, assumption more 0 than 1. X: numpy array, y: pandas dataframe with labels\n",
    "def ros(X, y, label_name, random_seed):\n",
    "    y_ind0 = np.array(y.index[y[label_name] == 0].tolist())\n",
    "    y_ind1 = np.array(y.index[y[label_name] == 1].tolist())\n",
    "\n",
    "    np.random.seed(random_seed)\n",
    "    copy_ind = np.random.choice(y_ind1, len(y_ind0) - len(y_ind1), replace=True)\n",
    "    \n",
    "    os_samples = X[copy_ind[0]]\n",
    "    os_samples = os_samples.reshape(1,os_samples.shape[0])    \n",
    "    for i in copy_ind[1:]:\n",
    "        copy_sample = X[i]\n",
    "        os_samples = np.concatenate((os_samples, copy_sample.reshape(1, copy_sample.shape[0])), axis=0)\n",
    "    \n",
    "    X_val_os = np.concatenate((X, os_samples), axis=0)\n",
    "    y_val_os = np.concatenate((y[label_name].values, np.ones(len(os_samples), dtype = float)), axis=0)\n",
    "    return X_val_os, y_val_os\n",
    "\n",
    "\n",
    "def test_roc_auc(model, X, y, label_target, label_list):\n",
    "    X_test = X.values[:, label_to_ind(X, label_list)]\n",
    "\n",
    "    y_dec = model.decision_function(X_test)\n",
    "    y_dec_prob = sigmoid_v(y_dec)\n",
    "    \n",
    "    df = pd.DataFrame(columns=y.columns.values)\n",
    "    df[label_target] = y_dec_prob\n",
    "    df.to_csv(\"Labels_Training_New/\" + label_target + \".csv\", index=False)\n",
    "    \n",
    "    y_true = y[label_target]\n",
    "    \n",
    "    return roc_auc_score(y_true, y_dec_prob)\n",
    "\n",
    "def train_model(X_PP, y, target_LABEL, C_LABELS,  C, degree):\n",
    "    X_val_CL = X_PP.values[:,label_to_ind(X, C_LABELS)]\n",
    "    X_val_CL, y_val_CL = ros(X_val_CL, y, target_LABEL, 10)\n",
    "    m = svm.SVC(C=C, kernel=\"poly\", degree=degree, decision_function_shape=\"ovo\").fit(X_val_CL, y_val_CL)\n",
    "    print(test_roc_auc(m, X_PP, y, target_LABEL, C_LABELS))\n",
    "    return m\n",
    "\n",
    "def write_out(model, X_test, y, label_name, label_list):\n",
    "    X_test = X_test.values[:, label_to_ind(X_test, label_list)]\n",
    "    \n",
    "    y_dec_prob = sigmoid_v(model.decision_function(X_test))\n",
    "    \n",
    "    df = pd.DataFrame(columns=y.columns.values)\n",
    "    df[label_name] = y_dec_prob\n",
    "    df.to_csv(\"Labels_New/\" + label_name + \".csv\", index=False)    \n",
    "    return "
   ]
  },
  {
   "cell_type": "code",
   "execution_count": 2,
   "metadata": {},
   "outputs": [
    {
     "data": {
      "text/html": [
       "<div>\n",
       "<style scoped>\n",
       "    .dataframe tbody tr th:only-of-type {\n",
       "        vertical-align: middle;\n",
       "    }\n",
       "\n",
       "    .dataframe tbody tr th {\n",
       "        vertical-align: top;\n",
       "    }\n",
       "\n",
       "    .dataframe thead th {\n",
       "        text-align: right;\n",
       "    }\n",
       "</style>\n",
       "<table border=\"1\" class=\"dataframe\">\n",
       "  <thead>\n",
       "    <tr style=\"text-align: right;\">\n",
       "      <th></th>\n",
       "      <th>a</th>\n",
       "      <th>b</th>\n",
       "      <th>c</th>\n",
       "    </tr>\n",
       "  </thead>\n",
       "  <tbody>\n",
       "    <tr>\n",
       "      <th>0</th>\n",
       "      <td>1.0</td>\n",
       "      <td>NaN</td>\n",
       "      <td>NaN</td>\n",
       "    </tr>\n",
       "    <tr>\n",
       "      <th>1</th>\n",
       "      <td>2.0</td>\n",
       "      <td>NaN</td>\n",
       "      <td>NaN</td>\n",
       "    </tr>\n",
       "    <tr>\n",
       "      <th>2</th>\n",
       "      <td>3.0</td>\n",
       "      <td>NaN</td>\n",
       "      <td>NaN</td>\n",
       "    </tr>\n",
       "    <tr>\n",
       "      <th>3</th>\n",
       "      <td>1.0</td>\n",
       "      <td>NaN</td>\n",
       "      <td>1.0</td>\n",
       "    </tr>\n",
       "    <tr>\n",
       "      <th>4</th>\n",
       "      <td>2.0</td>\n",
       "      <td>NaN</td>\n",
       "      <td>2.0</td>\n",
       "    </tr>\n",
       "    <tr>\n",
       "      <th>5</th>\n",
       "      <td>3.0</td>\n",
       "      <td>NaN</td>\n",
       "      <td>3.0</td>\n",
       "    </tr>\n",
       "    <tr>\n",
       "      <th>6</th>\n",
       "      <td>1.0</td>\n",
       "      <td>NaN</td>\n",
       "      <td>NaN</td>\n",
       "    </tr>\n",
       "    <tr>\n",
       "      <th>7</th>\n",
       "      <td>2.0</td>\n",
       "      <td>NaN</td>\n",
       "      <td>NaN</td>\n",
       "    </tr>\n",
       "    <tr>\n",
       "      <th>8</th>\n",
       "      <td>3.0</td>\n",
       "      <td>NaN</td>\n",
       "      <td>NaN</td>\n",
       "    </tr>\n",
       "    <tr>\n",
       "      <th>9</th>\n",
       "      <td>1.0</td>\n",
       "      <td>NaN</td>\n",
       "      <td>1.0</td>\n",
       "    </tr>\n",
       "    <tr>\n",
       "      <th>10</th>\n",
       "      <td>2.0</td>\n",
       "      <td>NaN</td>\n",
       "      <td>2.0</td>\n",
       "    </tr>\n",
       "    <tr>\n",
       "      <th>11</th>\n",
       "      <td>3.0</td>\n",
       "      <td>NaN</td>\n",
       "      <td>3.0</td>\n",
       "    </tr>\n",
       "  </tbody>\n",
       "</table>\n",
       "</div>"
      ],
      "text/plain": [
       "      a   b    c\n",
       "0   1.0 NaN  NaN\n",
       "1   2.0 NaN  NaN\n",
       "2   3.0 NaN  NaN\n",
       "3   1.0 NaN  1.0\n",
       "4   2.0 NaN  2.0\n",
       "5   3.0 NaN  3.0\n",
       "6   1.0 NaN  NaN\n",
       "7   2.0 NaN  NaN\n",
       "8   3.0 NaN  NaN\n",
       "9   1.0 NaN  1.0\n",
       "10  2.0 NaN  2.0\n",
       "11  3.0 NaN  3.0"
      ]
     },
     "execution_count": 2,
     "metadata": {},
     "output_type": "execute_result"
    }
   ],
   "source": [
    "arr1 = np.array([[1,2,3,1,2,3,1,2,3,1,2,3],\n",
    "                 [np.nan, np.nan, np.nan,np.nan, np.nan, np.nan,np.nan, np.nan, np.nan,np.nan, np.nan, np.nan],\n",
    "                 [np.nan, np.nan, np.nan,1,2,3,np.nan, np.nan, np.nan,1,2,3]])\n",
    "arr1 = np.transpose(arr1)\n",
    "df = pd.DataFrame(data=arr1, columns=[\"a\",\"b\",\"c\"])\n",
    "df"
   ]
  },
  {
   "cell_type": "code",
   "execution_count": 3,
   "metadata": {},
   "outputs": [],
   "source": [
    "from sklearn.preprocessing import StandardScaler\n",
    "\n",
    "##PP\n",
    "def get_mean_dict(X):\n",
    "    mean_dict = {}\n",
    "    for ind in X.columns.values:\n",
    "        mean_dict.update({ind : X[ind].mean()})\n",
    "    return mean_dict\n",
    "\n",
    "def preprocessing_train(X):\n",
    "    \n",
    "    mean_dict = get_mean_dict(X)    \n",
    "    \n",
    "    X_mean = pd.DataFrame(columns=X.columns)\n",
    "    for i in range(0, X.shape[0], 12):\n",
    "        X_mean = X_mean.append(X.iloc[i:i + 12,:].mean(axis=0).to_frame().T)\n",
    "        \n",
    "    for i in X.columns.values:\n",
    "        series = X_mean[i].fillna(mean_dict[i])\n",
    "        X_mean[i] = series\n",
    "        \n",
    "    scaler = StandardScaler().fit(X_mean)\n",
    "    scaler.transform(X_mean, copy=False)\n",
    "    \n",
    "    return (X_mean, mean_dict, scaler)\n",
    "\n",
    "def preprocessing_test(X, mean_dict, scaler):\n",
    "    \n",
    "    X_mean = pd.DataFrame(columns=X.columns)\n",
    "    for i in range(0, X.shape[0], 12):\n",
    "        X_mean = X_mean.append(X.iloc[i:i + 12,:].mean(axis=0).to_frame().T)\n",
    "        \n",
    "    for i in X.columns.values:\n",
    "        series = X_mean[i].fillna(mean_dict[i])\n",
    "        X_mean[i] = series\n",
    "        \n",
    "    scaler.transform(X_mean, copy=False)\n",
    "    \n",
    "    return X_mean"
   ]
  },
  {
   "cell_type": "code",
   "execution_count": 4,
   "metadata": {},
   "outputs": [],
   "source": [
    "X_PP, mean_dict, scaler = preprocessing_train(X)"
   ]
  },
  {
   "cell_type": "code",
   "execution_count": 23,
   "metadata": {},
   "outputs": [],
   "source": [
    "X_test_PP = preprocessing_test(X_test, mean_dict, scaler)"
   ]
  },
  {
   "cell_type": "code",
   "execution_count": 24,
   "metadata": {},
   "outputs": [
    {
     "data": {
      "text/html": [
       "<div>\n",
       "<style scoped>\n",
       "    .dataframe tbody tr th:only-of-type {\n",
       "        vertical-align: middle;\n",
       "    }\n",
       "\n",
       "    .dataframe tbody tr th {\n",
       "        vertical-align: top;\n",
       "    }\n",
       "\n",
       "    .dataframe thead th {\n",
       "        text-align: right;\n",
       "    }\n",
       "</style>\n",
       "<table border=\"1\" class=\"dataframe\">\n",
       "  <thead>\n",
       "    <tr style=\"text-align: right;\">\n",
       "      <th></th>\n",
       "      <th>pid</th>\n",
       "      <th>Time</th>\n",
       "      <th>Age</th>\n",
       "      <th>EtCO2</th>\n",
       "      <th>PTT</th>\n",
       "      <th>BUN</th>\n",
       "      <th>Lactate</th>\n",
       "      <th>Temp</th>\n",
       "      <th>Hgb</th>\n",
       "      <th>HCO3</th>\n",
       "      <th>...</th>\n",
       "      <th>Alkalinephos</th>\n",
       "      <th>SpO2</th>\n",
       "      <th>Bilirubin_direct</th>\n",
       "      <th>Chloride</th>\n",
       "      <th>Hct</th>\n",
       "      <th>Heartrate</th>\n",
       "      <th>Bilirubin_total</th>\n",
       "      <th>TroponinI</th>\n",
       "      <th>ABPs</th>\n",
       "      <th>pH</th>\n",
       "    </tr>\n",
       "  </thead>\n",
       "  <tbody>\n",
       "    <tr>\n",
       "      <th>0</th>\n",
       "      <td>-1.725202</td>\n",
       "      <td>-0.160088</td>\n",
       "      <td>-1.402508</td>\n",
       "      <td>0.001645</td>\n",
       "      <td>0.117163</td>\n",
       "      <td>-0.268126</td>\n",
       "      <td>0.128106</td>\n",
       "      <td>-1.170812</td>\n",
       "      <td>-0.603510</td>\n",
       "      <td>-3.359407</td>\n",
       "      <td>...</td>\n",
       "      <td>0.298311</td>\n",
       "      <td>1.073610</td>\n",
       "      <td>0.015158</td>\n",
       "      <td>-1.615035</td>\n",
       "      <td>-0.664814</td>\n",
       "      <td>0.010096</td>\n",
       "      <td>14.522767</td>\n",
       "      <td>0.013876</td>\n",
       "      <td>0.312972</td>\n",
       "      <td>-0.015287</td>\n",
       "    </tr>\n",
       "    <tr>\n",
       "      <th>0</th>\n",
       "      <td>-0.632420</td>\n",
       "      <td>-0.160088</td>\n",
       "      <td>-0.004486</td>\n",
       "      <td>0.001645</td>\n",
       "      <td>0.034751</td>\n",
       "      <td>0.008320</td>\n",
       "      <td>0.128106</td>\n",
       "      <td>0.715458</td>\n",
       "      <td>-0.050198</td>\n",
       "      <td>-0.047657</td>\n",
       "      <td>...</td>\n",
       "      <td>0.005064</td>\n",
       "      <td>-1.531297</td>\n",
       "      <td>0.015158</td>\n",
       "      <td>0.038826</td>\n",
       "      <td>-0.109148</td>\n",
       "      <td>1.677564</td>\n",
       "      <td>0.015526</td>\n",
       "      <td>0.013876</td>\n",
       "      <td>-0.579549</td>\n",
       "      <td>-0.080393</td>\n",
       "    </tr>\n",
       "    <tr>\n",
       "      <th>0</th>\n",
       "      <td>-0.632202</td>\n",
       "      <td>-0.160088</td>\n",
       "      <td>0.603349</td>\n",
       "      <td>0.001645</td>\n",
       "      <td>0.034751</td>\n",
       "      <td>0.008320</td>\n",
       "      <td>-0.762227</td>\n",
       "      <td>0.201021</td>\n",
       "      <td>-0.050198</td>\n",
       "      <td>-0.047657</td>\n",
       "      <td>...</td>\n",
       "      <td>0.005064</td>\n",
       "      <td>0.910293</td>\n",
       "      <td>0.015158</td>\n",
       "      <td>0.038826</td>\n",
       "      <td>-0.109148</td>\n",
       "      <td>0.413016</td>\n",
       "      <td>0.015526</td>\n",
       "      <td>0.013876</td>\n",
       "      <td>0.119932</td>\n",
       "      <td>2.101206</td>\n",
       "    </tr>\n",
       "    <tr>\n",
       "      <th>0</th>\n",
       "      <td>-0.632092</td>\n",
       "      <td>-0.160088</td>\n",
       "      <td>-1.098590</td>\n",
       "      <td>0.001645</td>\n",
       "      <td>0.034751</td>\n",
       "      <td>-0.768864</td>\n",
       "      <td>0.128106</td>\n",
       "      <td>-0.793558</td>\n",
       "      <td>1.121687</td>\n",
       "      <td>-0.047657</td>\n",
       "      <td>...</td>\n",
       "      <td>0.461187</td>\n",
       "      <td>-0.845365</td>\n",
       "      <td>0.015158</td>\n",
       "      <td>0.038826</td>\n",
       "      <td>1.110201</td>\n",
       "      <td>0.204512</td>\n",
       "      <td>-0.915237</td>\n",
       "      <td>0.013876</td>\n",
       "      <td>-1.447997</td>\n",
       "      <td>-0.080393</td>\n",
       "    </tr>\n",
       "    <tr>\n",
       "      <th>0</th>\n",
       "      <td>-0.631983</td>\n",
       "      <td>-0.160088</td>\n",
       "      <td>1.575886</td>\n",
       "      <td>0.001645</td>\n",
       "      <td>0.022225</td>\n",
       "      <td>1.116266</td>\n",
       "      <td>0.128106</td>\n",
       "      <td>-1.170812</td>\n",
       "      <td>-1.084302</td>\n",
       "      <td>0.509416</td>\n",
       "      <td>...</td>\n",
       "      <td>0.005064</td>\n",
       "      <td>-0.763707</td>\n",
       "      <td>0.015158</td>\n",
       "      <td>0.498463</td>\n",
       "      <td>-0.439259</td>\n",
       "      <td>-1.829810</td>\n",
       "      <td>0.015526</td>\n",
       "      <td>0.013876</td>\n",
       "      <td>0.389597</td>\n",
       "      <td>-0.080393</td>\n",
       "    </tr>\n",
       "    <tr>\n",
       "      <th>...</th>\n",
       "      <td>...</td>\n",
       "      <td>...</td>\n",
       "      <td>...</td>\n",
       "      <td>...</td>\n",
       "      <td>...</td>\n",
       "      <td>...</td>\n",
       "      <td>...</td>\n",
       "      <td>...</td>\n",
       "      <td>...</td>\n",
       "      <td>...</td>\n",
       "      <td>...</td>\n",
       "      <td>...</td>\n",
       "      <td>...</td>\n",
       "      <td>...</td>\n",
       "      <td>...</td>\n",
       "      <td>...</td>\n",
       "      <td>...</td>\n",
       "      <td>...</td>\n",
       "      <td>...</td>\n",
       "      <td>...</td>\n",
       "      <td>...</td>\n",
       "    </tr>\n",
       "    <tr>\n",
       "      <th>0</th>\n",
       "      <td>-0.633731</td>\n",
       "      <td>0.151126</td>\n",
       "      <td>-1.159374</td>\n",
       "      <td>0.001645</td>\n",
       "      <td>-0.861683</td>\n",
       "      <td>-0.827774</td>\n",
       "      <td>0.128106</td>\n",
       "      <td>0.338204</td>\n",
       "      <td>-0.235845</td>\n",
       "      <td>0.877876</td>\n",
       "      <td>...</td>\n",
       "      <td>0.005064</td>\n",
       "      <td>-1.209426</td>\n",
       "      <td>0.015158</td>\n",
       "      <td>-0.558286</td>\n",
       "      <td>-0.223512</td>\n",
       "      <td>1.678597</td>\n",
       "      <td>0.015526</td>\n",
       "      <td>0.013876</td>\n",
       "      <td>-0.011978</td>\n",
       "      <td>-0.080393</td>\n",
       "    </tr>\n",
       "    <tr>\n",
       "      <th>0</th>\n",
       "      <td>-0.633513</td>\n",
       "      <td>-0.160088</td>\n",
       "      <td>-0.004486</td>\n",
       "      <td>0.001645</td>\n",
       "      <td>0.683519</td>\n",
       "      <td>-0.385947</td>\n",
       "      <td>0.128106</td>\n",
       "      <td>0.338204</td>\n",
       "      <td>-1.763068</td>\n",
       "      <td>-1.517110</td>\n",
       "      <td>...</td>\n",
       "      <td>0.005064</td>\n",
       "      <td>1.073610</td>\n",
       "      <td>0.015158</td>\n",
       "      <td>-3.068064</td>\n",
       "      <td>-1.616064</td>\n",
       "      <td>-0.840512</td>\n",
       "      <td>0.015526</td>\n",
       "      <td>0.013876</td>\n",
       "      <td>0.776910</td>\n",
       "      <td>-0.250453</td>\n",
       "    </tr>\n",
       "    <tr>\n",
       "      <th>0</th>\n",
       "      <td>-0.633404</td>\n",
       "      <td>0.462339</td>\n",
       "      <td>-0.673105</td>\n",
       "      <td>0.001645</td>\n",
       "      <td>0.113889</td>\n",
       "      <td>0.114791</td>\n",
       "      <td>0.128106</td>\n",
       "      <td>0.115075</td>\n",
       "      <td>0.442921</td>\n",
       "      <td>0.509416</td>\n",
       "      <td>...</td>\n",
       "      <td>0.005064</td>\n",
       "      <td>0.474781</td>\n",
       "      <td>0.015158</td>\n",
       "      <td>1.291024</td>\n",
       "      <td>0.610059</td>\n",
       "      <td>-0.150039</td>\n",
       "      <td>0.015526</td>\n",
       "      <td>0.013876</td>\n",
       "      <td>-1.109145</td>\n",
       "      <td>0.572627</td>\n",
       "    </tr>\n",
       "    <tr>\n",
       "      <th>0</th>\n",
       "      <td>-0.633185</td>\n",
       "      <td>0.151126</td>\n",
       "      <td>-0.612322</td>\n",
       "      <td>0.001645</td>\n",
       "      <td>5.469717</td>\n",
       "      <td>0.203156</td>\n",
       "      <td>6.282485</td>\n",
       "      <td>-0.667807</td>\n",
       "      <td>0.216666</td>\n",
       "      <td>-0.411732</td>\n",
       "      <td>...</td>\n",
       "      <td>0.461187</td>\n",
       "      <td>1.073610</td>\n",
       "      <td>0.015158</td>\n",
       "      <td>-0.954567</td>\n",
       "      <td>0.031463</td>\n",
       "      <td>0.986402</td>\n",
       "      <td>-0.204701</td>\n",
       "      <td>0.013876</td>\n",
       "      <td>-0.139421</td>\n",
       "      <td>2.042414</td>\n",
       "    </tr>\n",
       "    <tr>\n",
       "      <th>0</th>\n",
       "      <td>-0.632857</td>\n",
       "      <td>-0.160088</td>\n",
       "      <td>-0.308404</td>\n",
       "      <td>0.001645</td>\n",
       "      <td>-0.802756</td>\n",
       "      <td>-0.179761</td>\n",
       "      <td>0.128106</td>\n",
       "      <td>1.469966</td>\n",
       "      <td>-0.462100</td>\n",
       "      <td>-1.332881</td>\n",
       "      <td>...</td>\n",
       "      <td>0.005064</td>\n",
       "      <td>0.951123</td>\n",
       "      <td>0.015158</td>\n",
       "      <td>0.234276</td>\n",
       "      <td>-0.360806</td>\n",
       "      <td>0.159430</td>\n",
       "      <td>0.015526</td>\n",
       "      <td>0.013876</td>\n",
       "      <td>-0.163428</td>\n",
       "      <td>-0.485619</td>\n",
       "    </tr>\n",
       "  </tbody>\n",
       "</table>\n",
       "<p>12664 rows × 37 columns</p>\n",
       "</div>"
      ],
      "text/plain": [
       "         pid      Time       Age     EtCO2       PTT       BUN   Lactate  \\\n",
       "0  -1.725202 -0.160088 -1.402508  0.001645  0.117163 -0.268126  0.128106   \n",
       "0  -0.632420 -0.160088 -0.004486  0.001645  0.034751  0.008320  0.128106   \n",
       "0  -0.632202 -0.160088  0.603349  0.001645  0.034751  0.008320 -0.762227   \n",
       "0  -0.632092 -0.160088 -1.098590  0.001645  0.034751 -0.768864  0.128106   \n",
       "0  -0.631983 -0.160088  1.575886  0.001645  0.022225  1.116266  0.128106   \n",
       "..       ...       ...       ...       ...       ...       ...       ...   \n",
       "0  -0.633731  0.151126 -1.159374  0.001645 -0.861683 -0.827774  0.128106   \n",
       "0  -0.633513 -0.160088 -0.004486  0.001645  0.683519 -0.385947  0.128106   \n",
       "0  -0.633404  0.462339 -0.673105  0.001645  0.113889  0.114791  0.128106   \n",
       "0  -0.633185  0.151126 -0.612322  0.001645  5.469717  0.203156  6.282485   \n",
       "0  -0.632857 -0.160088 -0.308404  0.001645 -0.802756 -0.179761  0.128106   \n",
       "\n",
       "        Temp       Hgb      HCO3  ...  Alkalinephos      SpO2  \\\n",
       "0  -1.170812 -0.603510 -3.359407  ...      0.298311  1.073610   \n",
       "0   0.715458 -0.050198 -0.047657  ...      0.005064 -1.531297   \n",
       "0   0.201021 -0.050198 -0.047657  ...      0.005064  0.910293   \n",
       "0  -0.793558  1.121687 -0.047657  ...      0.461187 -0.845365   \n",
       "0  -1.170812 -1.084302  0.509416  ...      0.005064 -0.763707   \n",
       "..       ...       ...       ...  ...           ...       ...   \n",
       "0   0.338204 -0.235845  0.877876  ...      0.005064 -1.209426   \n",
       "0   0.338204 -1.763068 -1.517110  ...      0.005064  1.073610   \n",
       "0   0.115075  0.442921  0.509416  ...      0.005064  0.474781   \n",
       "0  -0.667807  0.216666 -0.411732  ...      0.461187  1.073610   \n",
       "0   1.469966 -0.462100 -1.332881  ...      0.005064  0.951123   \n",
       "\n",
       "    Bilirubin_direct  Chloride       Hct  Heartrate  Bilirubin_total  \\\n",
       "0           0.015158 -1.615035 -0.664814   0.010096        14.522767   \n",
       "0           0.015158  0.038826 -0.109148   1.677564         0.015526   \n",
       "0           0.015158  0.038826 -0.109148   0.413016         0.015526   \n",
       "0           0.015158  0.038826  1.110201   0.204512        -0.915237   \n",
       "0           0.015158  0.498463 -0.439259  -1.829810         0.015526   \n",
       "..               ...       ...       ...        ...              ...   \n",
       "0           0.015158 -0.558286 -0.223512   1.678597         0.015526   \n",
       "0           0.015158 -3.068064 -1.616064  -0.840512         0.015526   \n",
       "0           0.015158  1.291024  0.610059  -0.150039         0.015526   \n",
       "0           0.015158 -0.954567  0.031463   0.986402        -0.204701   \n",
       "0           0.015158  0.234276 -0.360806   0.159430         0.015526   \n",
       "\n",
       "    TroponinI      ABPs        pH  \n",
       "0    0.013876  0.312972 -0.015287  \n",
       "0    0.013876 -0.579549 -0.080393  \n",
       "0    0.013876  0.119932  2.101206  \n",
       "0    0.013876 -1.447997 -0.080393  \n",
       "0    0.013876  0.389597 -0.080393  \n",
       "..        ...       ...       ...  \n",
       "0    0.013876 -0.011978 -0.080393  \n",
       "0    0.013876  0.776910 -0.250453  \n",
       "0    0.013876 -1.109145  0.572627  \n",
       "0    0.013876 -0.139421  2.042414  \n",
       "0    0.013876 -0.163428 -0.485619  \n",
       "\n",
       "[12664 rows x 37 columns]"
      ]
     },
     "execution_count": 24,
     "metadata": {},
     "output_type": "execute_result"
    }
   ],
   "source": [
    "X_test_PP"
   ]
  },
  {
   "cell_type": "code",
   "execution_count": 34,
   "metadata": {},
   "outputs": [],
   "source": [
    "mv_row_indices = (X.isnull().sum()/ X.shape[0])*100 < 90\n",
    "LS_LABELS = []\n",
    "for i in range(len(mv_row_indices.values)):\n",
    "    if mv_row_indices.values[i]: LS_LABELS += [X.columns.values[i]]\n",
    "LABELS = LS_LABELS[1:]"
   ]
  },
  {
   "cell_type": "code",
   "execution_count": 36,
   "metadata": {},
   "outputs": [
    {
     "name": "stdout",
     "output_type": "stream",
     "text": [
      "0.807122183979975\n"
     ]
    },
    {
     "name": "stderr",
     "output_type": "stream",
     "text": [
      "<ipython-input-31-1bc0c512cd2d>:21: RuntimeWarning: overflow encountered in exp\n",
      "  sig = (1 / (1 + np.exp(-x)))\n"
     ]
    }
   ],
   "source": [
    "##LABEL_Sepsis\n",
    "target_LABEL = \"LABEL_Sepsis\"\n",
    "C_LABELS = LABELS\n",
    "\n",
    "m = train_model(X_PP, y, target_LABEL, C_LABELS, 0.8, 4)"
   ]
  },
  {
   "cell_type": "code",
   "execution_count": 37,
   "metadata": {},
   "outputs": [
    {
     "name": "stderr",
     "output_type": "stream",
     "text": [
      "<ipython-input-31-1bc0c512cd2d>:21: RuntimeWarning: overflow encountered in exp\n",
      "  sig = (1 / (1 + np.exp(-x)))\n"
     ]
    }
   ],
   "source": [
    "write_out(m, X_test_PP, y, target_LABEL, C_LABELS)"
   ]
  },
  {
   "cell_type": "code",
   "execution_count": 38,
   "metadata": {},
   "outputs": [
    {
     "name": "stdout",
     "output_type": "stream",
     "text": [
      "0.7909706411911092\n"
     ]
    },
    {
     "name": "stderr",
     "output_type": "stream",
     "text": [
      "<ipython-input-31-1bc0c512cd2d>:21: RuntimeWarning: overflow encountered in exp\n",
      "  sig = (1 / (1 + np.exp(-x)))\n"
     ]
    }
   ],
   "source": [
    "##LABEL_BaseExcess\n",
    "target_LABEL = \"LABEL_BaseExcess\"\n",
    "C_LABELS = LABELS\n",
    "m = train_model(X_PP, y, target_LABEL, C_LABELS, 0.8, 4)"
   ]
  },
  {
   "cell_type": "code",
   "execution_count": 39,
   "metadata": {},
   "outputs": [],
   "source": [
    "write_out(m, X_test_PP, y, target_LABEL, C_LABELS)"
   ]
  },
  {
   "cell_type": "code",
   "execution_count": 40,
   "metadata": {},
   "outputs": [
    {
     "name": "stdout",
     "output_type": "stream",
     "text": [
      "0.7101342102058215\n"
     ]
    },
    {
     "name": "stderr",
     "output_type": "stream",
     "text": [
      "<ipython-input-31-1bc0c512cd2d>:21: RuntimeWarning: overflow encountered in exp\n",
      "  sig = (1 / (1 + np.exp(-x)))\n"
     ]
    }
   ],
   "source": [
    "##LABEL_Fibrinogen\n",
    "target_LABEL = \"LABEL_Fibrinogen\"\n",
    "C_LABELS = [\"Time\", \"PTT\", \"Hgb\", \"Fibrinogen\", \"Platelets\"]\n",
    "m = train_model(X_PP, y, target_LABEL, C_LABELS, 0.8, 4)"
   ]
  },
  {
   "cell_type": "code",
   "execution_count": 41,
   "metadata": {},
   "outputs": [
    {
     "name": "stderr",
     "output_type": "stream",
     "text": [
      "<ipython-input-31-1bc0c512cd2d>:21: RuntimeWarning: overflow encountered in exp\n",
      "  sig = (1 / (1 + np.exp(-x)))\n"
     ]
    }
   ],
   "source": [
    "write_out(m, X_test_PP, y, target_LABEL, C_LABELS)"
   ]
  },
  {
   "cell_type": "code",
   "execution_count": 46,
   "metadata": {},
   "outputs": [
    {
     "name": "stdout",
     "output_type": "stream",
     "text": [
      "0.691917762572571\n"
     ]
    },
    {
     "name": "stderr",
     "output_type": "stream",
     "text": [
      "<ipython-input-31-1bc0c512cd2d>:21: RuntimeWarning: overflow encountered in exp\n",
      "  sig = (1 / (1 + np.exp(-x)))\n"
     ]
    }
   ],
   "source": [
    "##LABEL_AST\n",
    "target_LABEL = \"LABEL_AST\"\n",
    "C_LABELS = LABELS\n",
    "m = train_model(X_PP, y, target_LABEL, C_LABELS, 0.8, 4)\n",
    "write_out(m, X_test_PP, y, target_LABEL, C_LABELS)"
   ]
  },
  {
   "cell_type": "code",
   "execution_count": 49,
   "metadata": {},
   "outputs": [
    {
     "name": "stdout",
     "output_type": "stream",
     "text": [
      "0.8402159127839768\n"
     ]
    }
   ],
   "source": [
    "##LABEL_Alkalinephos\n",
    "target_LABEL = \"LABEL_Alkalinephos\"\n",
    "C_LABELS = X.columns.values\n",
    "m = train_model(X_PP, y, target_LABEL, C_LABELS, 1, 4)\n",
    "write_out(m, X_test_PP, y, target_LABEL, C_LABELS)"
   ]
  },
  {
   "cell_type": "code",
   "execution_count": 51,
   "metadata": {},
   "outputs": [
    {
     "name": "stdout",
     "output_type": "stream",
     "text": [
      "0.8357826833883855\n"
     ]
    }
   ],
   "source": [
    "##LABEL_Bilirubin_total\n",
    "target_LABEL = \"LABEL_Bilirubin_total\"\n",
    "C_LABELS = X.columns.values\n",
    "m = train_model(X_PP, y, target_LABEL, C_LABELS, 0.8, 4)\n",
    "write_out(m, X_test_PP, y, target_LABEL, C_LABELS)"
   ]
  },
  {
   "cell_type": "code",
   "execution_count": 53,
   "metadata": {},
   "outputs": [
    {
     "name": "stderr",
     "output_type": "stream",
     "text": [
      "<ipython-input-52-f224b617f302>:21: RuntimeWarning: overflow encountered in exp\n",
      "  sig = (1 / (1 + np.exp(-x)))\n"
     ]
    },
    {
     "name": "stdout",
     "output_type": "stream",
     "text": [
      "0.7549161944569412\n"
     ]
    },
    {
     "name": "stderr",
     "output_type": "stream",
     "text": [
      "<ipython-input-52-f224b617f302>:21: RuntimeWarning: overflow encountered in exp\n",
      "  sig = (1 / (1 + np.exp(-x)))\n"
     ]
    }
   ],
   "source": [
    "##LABEL_Lactate\n",
    "target_LABEL = \"LABEL_Lactate\"\n",
    "C_LABELS = LABELS\n",
    "m = train_model(X_PP, y, target_LABEL, C_LABELS, 0.8, 4)\n",
    "write_out(m, X_test_PP, y, target_LABEL, C_LABELS)"
   ]
  },
  {
   "cell_type": "code",
   "execution_count": 54,
   "metadata": {},
   "outputs": [
    {
     "name": "stderr",
     "output_type": "stream",
     "text": [
      "<ipython-input-52-f224b617f302>:21: RuntimeWarning: overflow encountered in exp\n",
      "  sig = (1 / (1 + np.exp(-x)))\n"
     ]
    },
    {
     "name": "stdout",
     "output_type": "stream",
     "text": [
      "0.7820898640620901\n"
     ]
    },
    {
     "name": "stderr",
     "output_type": "stream",
     "text": [
      "<ipython-input-52-f224b617f302>:21: RuntimeWarning: overflow encountered in exp\n",
      "  sig = (1 / (1 + np.exp(-x)))\n"
     ]
    }
   ],
   "source": [
    "##LABEL_TroponinI\n",
    "target_LABEL = \"LABEL_TroponinI\"\n",
    "C_LABELS = LABELS\n",
    "m = train_model(X_PP, y, target_LABEL, C_LABELS, 0.8, 4)\n",
    "write_out(m, X_test_PP, y, target_LABEL, C_LABELS)"
   ]
  },
  {
   "cell_type": "code",
   "execution_count": 56,
   "metadata": {},
   "outputs": [
    {
     "name": "stderr",
     "output_type": "stream",
     "text": [
      "<ipython-input-52-f224b617f302>:21: RuntimeWarning: overflow encountered in exp\n",
      "  sig = (1 / (1 + np.exp(-x)))\n"
     ]
    },
    {
     "name": "stdout",
     "output_type": "stream",
     "text": [
      "0.7669870859733924\n"
     ]
    },
    {
     "name": "stderr",
     "output_type": "stream",
     "text": [
      "<ipython-input-52-f224b617f302>:21: RuntimeWarning: overflow encountered in exp\n",
      "  sig = (1 / (1 + np.exp(-x)))\n"
     ]
    }
   ],
   "source": [
    "##LABEL_SaO2\n",
    "target_LABEL = \"LABEL_SaO2\"\n",
    "C_LABELS = LABELS\n",
    "m = train_model(X_PP, y, target_LABEL, C_LABELS, 0.7, 4)\n",
    "write_out(m, X_test_PP, y, target_LABEL, C_LABELS)"
   ]
  },
  {
   "cell_type": "code",
   "execution_count": 57,
   "metadata": {},
   "outputs": [
    {
     "name": "stderr",
     "output_type": "stream",
     "text": [
      "<ipython-input-52-f224b617f302>:21: RuntimeWarning: overflow encountered in exp\n",
      "  sig = (1 / (1 + np.exp(-x)))\n"
     ]
    },
    {
     "name": "stdout",
     "output_type": "stream",
     "text": [
      "0.8675690325742569\n"
     ]
    },
    {
     "name": "stderr",
     "output_type": "stream",
     "text": [
      "<ipython-input-52-f224b617f302>:21: RuntimeWarning: overflow encountered in exp\n",
      "  sig = (1 / (1 + np.exp(-x)))\n"
     ]
    }
   ],
   "source": [
    "##LABEL_Bilirubin_direct\n",
    "target_LABEL = \"LABEL_Bilirubin_direct\"\n",
    "C_LABELS = LABELS\n",
    "m = train_model(X_PP, y, target_LABEL, C_LABELS, 0.8, 4)\n",
    "write_out(m, X_test_PP, y, target_LABEL, C_LABELS)"
   ]
  },
  {
   "cell_type": "code",
   "execution_count": 58,
   "metadata": {},
   "outputs": [
    {
     "name": "stderr",
     "output_type": "stream",
     "text": [
      "<ipython-input-52-f224b617f302>:21: RuntimeWarning: overflow encountered in exp\n",
      "  sig = (1 / (1 + np.exp(-x)))\n"
     ]
    },
    {
     "name": "stdout",
     "output_type": "stream",
     "text": [
      "0.8452968987487601\n"
     ]
    },
    {
     "name": "stderr",
     "output_type": "stream",
     "text": [
      "<ipython-input-52-f224b617f302>:21: RuntimeWarning: overflow encountered in exp\n",
      "  sig = (1 / (1 + np.exp(-x)))\n"
     ]
    }
   ],
   "source": [
    "##LABEL_EtCO2\n",
    "target_LABEL = \"LABEL_EtCO2\"\n",
    "C_LABELS = LABELS\n",
    "m = train_model(X_PP, y, target_LABEL, C_LABELS, 0.8, 4)\n",
    "write_out(m, X_test_PP, y, target_LABEL, C_LABELS)"
   ]
  },
  {
   "cell_type": "code",
   "execution_count": null,
   "metadata": {},
   "outputs": [],
   "source": [
    "##beginning of last part"
   ]
  },
  {
   "cell_type": "code",
   "execution_count": 63,
   "metadata": {},
   "outputs": [
    {
     "data": {
      "text/plain": [
       "0.7657347615569133"
      ]
     },
     "execution_count": 63,
     "metadata": {},
     "output_type": "execute_result"
    }
   ],
   "source": [
    "##\"LABEL_RRate\"\n",
    "label_name = \"LABEL_RRate\"\n",
    "m = KernelRidge(alpha=1.5, kernel=\"poly\", degree=5).fit(X_PP.values, y[label_name].values)\n",
    "m.score(X_PP.values, y[label_name].values)"
   ]
  },
  {
   "cell_type": "code",
   "execution_count": 64,
   "metadata": {},
   "outputs": [],
   "source": [
    "df = pd.DataFrame(columns=y.columns.values)\n",
    "df[label_name] = m.predict(X_PP.values)\n",
    "df.to_csv(\"Labels_Training_New/\" + label_name + \".csv\")\n",
    "##training\n",
    "df = pd.DataFrame(columns=y.columns.values)\n",
    "df[label_name] = m.predict(X_test_PP.values)\n",
    "df.to_csv(\"Labels_New/\" + label_name + \".csv\")"
   ]
  },
  {
   "cell_type": "code",
   "execution_count": 65,
   "metadata": {},
   "outputs": [
    {
     "data": {
      "text/plain": [
       "0.8147858679844178"
      ]
     },
     "execution_count": 65,
     "metadata": {},
     "output_type": "execute_result"
    }
   ],
   "source": [
    "##\"LABEL_ABPm\"\n",
    "label_name = \"LABEL_ABPm\"\n",
    "m = KernelRidge(alpha=2.0, kernel=\"poly\", degree=5).fit(X_PP.values, y[label_name].values)\n",
    "m.score(X_PP.values, y[label_name].values)"
   ]
  },
  {
   "cell_type": "code",
   "execution_count": 66,
   "metadata": {},
   "outputs": [],
   "source": [
    "df = pd.DataFrame(columns=y.columns.values)\n",
    "df[label_name] = m.predict(X_PP.values)\n",
    "df.to_csv(\"Labels_Training_New/\" + label_name + \".csv\")\n",
    "##training\n",
    "df = pd.DataFrame(columns=y.columns.values)\n",
    "df[label_name] = m.predict(X_test_PP.values)\n",
    "df.to_csv(\"Labels_New/\" + label_name + \".csv\")"
   ]
  },
  {
   "cell_type": "code",
   "execution_count": 69,
   "metadata": {},
   "outputs": [
    {
     "data": {
      "text/plain": [
       "0.7943989074154093"
      ]
     },
     "execution_count": 69,
     "metadata": {},
     "output_type": "execute_result"
    }
   ],
   "source": [
    "##\"LABEL_SpO2\"\n",
    "label_name = \"LABEL_SpO2\"\n",
    "m = KernelRidge(alpha=1.5, kernel=\"poly\", degree=5).fit(X_PP.values, y[label_name].values)\n",
    "m.score(X_PP.values, y[label_name].values)"
   ]
  },
  {
   "cell_type": "code",
   "execution_count": 70,
   "metadata": {},
   "outputs": [],
   "source": [
    "df = pd.DataFrame(columns=y.columns.values)\n",
    "df[label_name] = m.predict(X_PP.values)\n",
    "df.to_csv(\"Labels_Training_New/\" + label_name + \".csv\")\n",
    "##training\n",
    "df = pd.DataFrame(columns=y.columns.values)\n",
    "df[label_name] = m.predict(X_test_PP.values)\n",
    "df.to_csv(\"Labels_New/\" + label_name + \".csv\")"
   ]
  },
  {
   "cell_type": "code",
   "execution_count": 72,
   "metadata": {},
   "outputs": [
    {
     "data": {
      "text/plain": [
       "0.772508907539619"
      ]
     },
     "execution_count": 72,
     "metadata": {},
     "output_type": "execute_result"
    }
   ],
   "source": [
    "##LABEL_Heartrate\n",
    "label_name = \"LABEL_Heartrate\"\n",
    "m = KernelRidge(alpha=2.0, kernel=\"poly\", degree=4).fit(X_PP.values, y[label_name].values)\n",
    "m.score(X_PP.values, y[label_name].values)"
   ]
  },
  {
   "cell_type": "code",
   "execution_count": 73,
   "metadata": {},
   "outputs": [],
   "source": [
    "df = pd.DataFrame(columns=y.columns.values)\n",
    "df[label_name] = m.predict(X_PP.values)\n",
    "df.to_csv(\"Labels_Training_New/\" + label_name + \".csv\")\n",
    "##training\n",
    "df = pd.DataFrame(columns=y.columns.values)\n",
    "df[label_name] = m.predict(X_test_PP.values)\n",
    "df.to_csv(\"Labels_New/\" + label_name + \".csv\")"
   ]
  },
  {
   "cell_type": "code",
   "execution_count": null,
   "metadata": {},
   "outputs": [],
   "source": []
  }
 ],
 "metadata": {
  "kernelspec": {
   "display_name": "Python 3",
   "language": "python",
   "name": "python3"
  },
  "language_info": {
   "codemirror_mode": {
    "name": "ipython",
    "version": 3
   },
   "file_extension": ".py",
   "mimetype": "text/x-python",
   "name": "python",
   "nbconvert_exporter": "python",
   "pygments_lexer": "ipython3",
   "version": "3.8.5"
  }
 },
 "nbformat": 4,
 "nbformat_minor": 4
}
