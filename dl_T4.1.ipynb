{
 "cells": [
  {
   "cell_type": "code",
   "execution_count": 7,
   "metadata": {},
   "outputs": [],
   "source": [
    "import pandas as pd\n",
    "import numpy as np\n",
    "import math\n",
    "from sklearn import svm\n",
    "from sklearn import preprocessing\n",
    "from sklearn.impute import SimpleImputer\n",
    "from sklearn.metrics import roc_auc_score\n",
    "\n",
    "##init X train         \n",
    "X = pd.read_csv(\"train_features.csv\")\n",
    "\n",
    "##init y train\n",
    "y = pd.read_csv(\"train_labels.csv\")\n",
    "\n",
    "##init X train\n",
    "X_test = pd.read_csv(\"test_features.csv\")\n",
    "\n",
    "##rearange 12 samples to one, because it's a time series\n",
    "def reara12(arr):\n",
    "    old_arr = arr\n",
    "    rows, cols = len(old_arr), len(old_arr[0])\n",
    "    new_arr = np.arange(rows * cols, dtype=float).reshape((int)(rows / 12), cols * 12)\n",
    "    \n",
    "    i_new = 0\n",
    "    for i_old in range (0, rows, 12):        \n",
    "        new_row = old_arr[i_old]\n",
    "        for i in range (1, 12):\n",
    "            new_row = np.append(new_row, old_arr[i_old + i])                    \n",
    "        new_arr[i_new] = new_row\n",
    "        i_new += 1\n",
    "        \n",
    "    return new_arr\n",
    "\n",
    "##sometimes overflows\n",
    "def sigmoid(x):\n",
    "    sig = (1 / (1 + np.exp(-x)))\n",
    "    return sig\n",
    "\n",
    "sigmoid_v = np.vectorize(sigmoid)\n",
    "\n",
    "##returns indices for all the specified labels\n",
    "def label_to_ind(df, label_list):\n",
    "    index = []\n",
    "    for i in label_list:\n",
    "        index += [df.columns.get_loc(i)]\n",
    "    return index\n",
    "\n",
    "##random oversampling function, assumption more 0 than 1. X: numpy array, y: pandas dataframe with labels\n",
    "def ros(X, y, label_name):\n",
    "    y_ind0 = np.array(y.index[y[label_name] == 0].tolist())\n",
    "    y_ind1 = np.array(y.index[y[label_name] == 1].tolist())\n",
    "\n",
    "    copy_ind = np.random.choice(y_ind1, len(y_ind0) - len(y_ind1), replace=True)\n",
    "    \n",
    "    os_samples = X[copy_ind[0]]\n",
    "    os_samples = os_samples.reshape(1,os_samples.shape[0])    \n",
    "    for i in copy_ind[1:]:\n",
    "        copy_sample = X[i]\n",
    "        os_samples = np.concatenate((os_samples, copy_sample.reshape(1, copy_sample.shape[0])), axis=0)\n",
    "    \n",
    "    X_val_os = np.concatenate((X, os_samples), axis=0)\n",
    "    y_val_os = np.concatenate((y[label_name].values, np.ones(len(os_samples), dtype = float)), axis=0)\n",
    "    return X_val_os, y_val_os\n",
    "\n",
    "def test_roc_auc(model, X, y, label_target, label_list, imputer, scaler):\n",
    "    X_test = imp.transform(X)\n",
    "    X_test = scaler.transform(X_test)\n",
    "    X_test = X_test[:, label_to_ind(X, label_list)]\n",
    "    X_test = reara12(X_test)\n",
    "\n",
    "    y_dec = model.decision_function(X_test)\n",
    "    y_dec_prob = sigmoid_v(y_dec)\n",
    "    y_true = y[label_target]\n",
    "    \n",
    "    return roc_auc_score(y_true, y_dec_prob)\n",
    "\n",
    "def write_out(model, X_test, y, label_name, label_list, imputer, scaler):\n",
    "    X_test = imp.transform(X_test)\n",
    "    X_test = scaler.transform(X_test)\n",
    "    X_test = X_test[:, label_to_ind(X, label_list)]\n",
    "    X_test = reara12(X_test)\n",
    "    \n",
    "    y_dec_prob = sigmoid_v(model.decision_function(X_test))\n",
    "    \n",
    "    df = pd.DataFrame(columns=y.columns.values)\n",
    "    df[label_name] = y_dec_prob\n",
    "    df.to_csv(label_name + \".csv\")    \n",
    "    return\n",
    "    \n",
    "\n",
    "\n"
   ]
  },
  {
   "cell_type": "code",
   "execution_count": 8,
   "metadata": {},
   "outputs": [
    {
     "data": {
      "text/plain": [
       "array([[-1.72509230e+00, -8.51212785e-01, -1.70642596e+00, ...,\n",
       "        -8.22522762e-16,  9.19839542e-01, -1.51001649e+00],\n",
       "       [-1.72509230e+00, -6.39172854e-01, -1.70642596e+00, ...,\n",
       "        -8.22522762e-16,  1.23243794e-01, -1.51001649e+00],\n",
       "       [-1.72509230e+00, -4.27132924e-01, -1.70642596e+00, ...,\n",
       "        -8.22522762e-16, -5.79634807e-01,  1.12283693e-01],\n",
       "       ...,\n",
       "       [-6.32638716e-01,  6.33066729e-01,  1.39353544e+00, ...,\n",
       "        -8.22522762e-16,  7.32405248e-01, -1.08066901e-13],\n",
       "       [-6.32638716e-01,  8.45106660e-01,  1.39353544e+00, ...,\n",
       "        -8.22522762e-16,  1.23243794e-01, -1.08066901e-13],\n",
       "       [-6.32638716e-01,  1.05714659e+00,  1.39353544e+00, ...,\n",
       "        -8.22522762e-16,  2.63819514e-01, -1.08066901e-13]])"
      ]
     },
     "execution_count": 8,
     "metadata": {},
     "output_type": "execute_result"
    }
   ],
   "source": [
    "imp = SimpleImputer(missing_values=np.nan, strategy='mean').fit(X)\n",
    "X_val = imp.transform(X)\n",
    "scaler = preprocessing.StandardScaler().fit(X_val)\n",
    "X_val = scaler.transform(X_val)\n",
    "X_val"
   ]
  },
  {
   "cell_type": "code",
   "execution_count": 9,
   "metadata": {},
   "outputs": [
    {
     "data": {
      "text/plain": [
       "0.8751790925405677"
      ]
     },
     "execution_count": 9,
     "metadata": {},
     "output_type": "execute_result"
    }
   ],
   "source": [
    "##LABEL_BaseExcess\n",
    "LBE_LABELS = [\"Time\", \"HCO3\", \"BaseExcess\", \"pH\"]\n",
    "X_val_LBE = X_val[:,label_to_ind(X, LBE_LABELS)]\n",
    "X_val_LBE = reara12(X_val_LBE)\n",
    "X_val_LBE, y_val_LBE = ros(X_val_LBE, y, \"LABEL_BaseExcess\")\n",
    "m = svm.SVC(C=0.6, kernel=\"poly\", degree=3, decision_function_shape=\"ovo\").fit(X_val_LBE, y_val_LBE)\n",
    "test_roc_auc(m, X, y, \"LABEL_BaseExcess\", LBE_LABELS, imp, scaler)"
   ]
  },
  {
   "cell_type": "code",
   "execution_count": 11,
   "metadata": {},
   "outputs": [],
   "source": [
    "write_out(m, X_test, y, \"LABEL_BaseExcess\", LBE_LABELS, imp, scaler)"
   ]
  },
  {
   "cell_type": "code",
   "execution_count": 14,
   "metadata": {},
   "outputs": [],
   "source": [
    "##LABEL_Fibrinogen\n",
    "LF_LABELS = [\"Time\", \"PTT\", \"Hgb\", \"Fibrinogen\", \"Platelets\"]\n",
    "X_val_LF = X_val[:, label_to_ind(X, LF_LABELS)]\n",
    "X_val_LF = reara12(X_val_LF)\n",
    "X_val_LF, y_val_LF = ros(X_val_LF, y, \"LABEL_Fibrinogen\")"
   ]
  },
  {
   "cell_type": "code",
   "execution_count": 15,
   "metadata": {
    "scrolled": true
   },
   "outputs": [
    {
     "name": "stderr",
     "output_type": "stream",
     "text": [
      "<ipython-input-1-d025df594cd7>:27: RuntimeWarning: overflow encountered in exp\n",
      "  sig = (1 / (1 + np.exp(-x)))\n"
     ]
    },
    {
     "data": {
      "text/plain": [
       "0.84437441643324"
      ]
     },
     "execution_count": 15,
     "metadata": {},
     "output_type": "execute_result"
    }
   ],
   "source": [
    "m = svm.SVC(C=0.7, kernel=\"poly\", degree=4, decision_function_shape=\"ovo\")\n",
    "m.fit(X_val_LF, y_val_LF)\n",
    "test_roc_auc(m, X, y, \"LABEL_Fibrinogen\", LF_LABELS, imp, scaler)"
   ]
  },
  {
   "cell_type": "code",
   "execution_count": 19,
   "metadata": {},
   "outputs": [
    {
     "data": {
      "text/plain": [
       "0.8357326741065071"
      ]
     },
     "execution_count": 19,
     "metadata": {},
     "output_type": "execute_result"
    }
   ],
   "source": [
    "##LABEL_AST: creat is maybe bad: mag, pot, cal,\n",
    "LA_LABELS = [\"RRate\", \"Heartrate\", \"Time\", \"BUN\", \"Hgb\", \"Phosphate\", \"Creatinine\", \"AST\", \"Glucose\", \"Magnesium\", \"Potassium\", \"Calcium\", \"Alkalinephos\", \"Bilirubin_direct\", \"Bilirubin_total\",  ]\n",
    "X_val_LA = X_val[:, label_to_ind(X, LA_LABELS)]\n",
    "X_val_LA = reara12(X_val_LA)\n",
    "X_val_LA, y_val_LA = ros(X_val_LA, y, \"LABEL_AST\")\n",
    "\n",
    "m = svm.SVC(C=0.7, kernel=\"poly\", degree=4, decision_function_shape=\"ovo\")\n",
    "m.fit(X_val_LA, y_val_LA)\n",
    "test_roc_auc(m, X, y, \"LABEL_AST\", LA_LABELS, imp, scaler)"
   ]
  }
 ],
 "metadata": {
  "kernelspec": {
   "display_name": "Python 3",
   "language": "python",
   "name": "python3"
  },
  "language_info": {
   "codemirror_mode": {
    "name": "ipython",
    "version": 3
   },
   "file_extension": ".py",
   "mimetype": "text/x-python",
   "name": "python",
   "nbconvert_exporter": "python",
   "pygments_lexer": "ipython3",
   "version": "3.8.5"
  }
 },
 "nbformat": 4,
 "nbformat_minor": 4
}
