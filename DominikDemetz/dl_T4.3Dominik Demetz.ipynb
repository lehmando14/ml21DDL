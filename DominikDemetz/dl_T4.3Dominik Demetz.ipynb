{
 "cells": [
  {
   "cell_type": "code",
   "execution_count": 1,
   "metadata": {},
   "outputs": [],
   "source": [
    "import pandas as pd\n",
    "import numpy as np\n",
    "import math\n",
    "from sklearn import svm\n",
    "from sklearn import preprocessing\n",
    "from sklearn.impute import SimpleImputer\n",
    "from sklearn.metrics import roc_auc_score\n",
    "from sklearn import linear_model\n",
    "from sklearn.kernel_ridge import KernelRidge\n",
    "\n",
    "##init X train         \n",
    "X = pd.read_csv(\"train_features.csv\")\n",
    "\n",
    "##init y train\n",
    "y = pd.read_csv(\"train_labels.csv\")\n",
    "\n",
    "##init X train\n",
    "X_test = pd.read_csv(\"test_features.csv\")\n",
    "\n",
    "##rearange 12 samples to one, because it's a time series\n",
    "def reara12(arr):\n",
    "    old_arr = arr\n",
    "    rows, cols = len(old_arr), len(old_arr[0])\n",
    "    new_arr = np.arange(rows * cols, dtype=float).reshape((int)(rows / 12), cols * 12)\n",
    "    \n",
    "    i_new = 0\n",
    "    for i_old in range (0, rows, 12):        \n",
    "        new_row = old_arr[i_old]\n",
    "        for i in range (1, 12):\n",
    "            new_row = np.append(new_row, old_arr[i_old + i])                    \n",
    "        new_arr[i_new] = new_row\n",
    "        i_new += 1\n",
    "        \n",
    "    return new_arr\n",
    "\n",
    "##sometimes overflows\n",
    "def sigmoid(x):\n",
    "    sig = (1 / (1 + np.exp(-x)))\n",
    "    return sig\n",
    "\n",
    "sigmoid_v = np.vectorize(sigmoid)\n",
    "\n",
    "##returns indices for all the specified labels\n",
    "def label_to_ind(df, label_list):\n",
    "    index = []\n",
    "    for i in label_list:\n",
    "        index += [df.columns.get_loc(i)]\n",
    "    return index\n",
    "\n",
    "##random oversampling function, assumption more 0 than 1. X: numpy array, y: pandas dataframe with labels\n",
    "def ros(X, y, label_name):\n",
    "    y_ind0 = np.array(y.index[y[label_name] == 0].tolist())\n",
    "    y_ind1 = np.array(y.index[y[label_name] == 1].tolist())\n",
    "\n",
    "    copy_ind = np.random.choice(y_ind1, len(y_ind0) - len(y_ind1), replace=True)\n",
    "    \n",
    "    os_samples = X[copy_ind[0]]\n",
    "    os_samples = os_samples.reshape(1,os_samples.shape[0])    \n",
    "    for i in copy_ind[1:]:\n",
    "        copy_sample = X[i]\n",
    "        os_samples = np.concatenate((os_samples, copy_sample.reshape(1, copy_sample.shape[0])), axis=0)\n",
    "    \n",
    "    X_val_os = np.concatenate((X, os_samples), axis=0)\n",
    "    y_val_os = np.concatenate((y[label_name].values, np.ones(len(os_samples), dtype = float)), axis=0)\n",
    "    return X_val_os, y_val_os\n",
    "\n",
    "def test_roc_auc(model, X, y, label_target, label_list, imputer, scaler):\n",
    "    X_test = imp.transform(X)\n",
    "    X_test = scaler.transform(X_test)\n",
    "    X_test = X_test[:, label_to_ind(X, label_list)]\n",
    "    X_test = reara12(X_test)\n",
    "\n",
    "    y_dec = model.decision_function(X_test)\n",
    "    y_dec_prob = sigmoid_v(y_dec)\n",
    "    y_true = y[label_target]\n",
    "    \n",
    "    return roc_auc_score(y_true, y_dec_prob)\n",
    "\n",
    "def write_out(model, label_name, label_list, imputer, scaler):\n",
    "    X_test = imp.transform(X_test)\n",
    "    X_test = scaler.transform(X_test)\n",
    "    X_test = X_test[:, label_to_ind(X, label_list)]\n",
    "    X_test = reara12(X_test)\n",
    "    \n",
    "    y_dec_prob = sigmoid_v(model.decision_function(X_test))\n",
    "    \n",
    "    df = pd.DataFrame(columns=X.columns.values)\n",
    "    df[label_name] = y_dec_prob\n",
    "    df.to_csv(label_name + \".csv\")    \n",
    "    return\n",
    "    \n",
    "\n",
    "\n"
   ]
  },
  {
   "cell_type": "code",
   "execution_count": 2,
   "metadata": {},
   "outputs": [
    {
     "output_type": "execute_result",
     "data": {
      "text/plain": [
       "         pid  Time   Age  Temp  RRate  Glucose  ABPm  ABPd   SpO2  Heartrate  \\\n",
       "0          1     3  34.0  36.0   16.0      NaN  84.0  61.0  100.0       94.0   \n",
       "1          1     4  34.0  36.0   16.0      NaN  81.0  62.5  100.0       99.0   \n",
       "2          1     5  34.0  36.0   18.0      NaN  74.0  59.0  100.0       92.0   \n",
       "3          1     6  34.0  37.0   18.0      NaN  66.0  49.5  100.0       88.0   \n",
       "4          1     7  34.0   NaN   18.0      NaN  63.0  48.0  100.0       81.0   \n",
       "...      ...   ...   ...   ...    ...      ...   ...   ...    ...        ...   \n",
       "227935  9999     8  85.0   NaN   17.0      NaN  78.0   NaN    NaN       80.0   \n",
       "227936  9999     9  85.0   NaN   15.0      NaN  88.0   NaN    NaN       83.0   \n",
       "227937  9999    10  85.0  36.0   22.0      NaN  97.0   NaN   98.0       80.0   \n",
       "227938  9999    11  85.0   NaN   22.0      NaN  84.0   NaN   98.0       75.0   \n",
       "227939  9999    12  85.0   NaN   24.0      NaN  85.0   NaN    NaN       79.0   \n",
       "\n",
       "         ABPs  \n",
       "0       142.0  \n",
       "1       125.0  \n",
       "2       110.0  \n",
       "3       104.0  \n",
       "4       100.0  \n",
       "...       ...  \n",
       "227935  110.0  \n",
       "227936  123.0  \n",
       "227937  138.0  \n",
       "227938  125.0  \n",
       "227939  128.0  \n",
       "\n",
       "[227940 rows x 11 columns]"
      ],
      "text/html": "<div>\n<style scoped>\n    .dataframe tbody tr th:only-of-type {\n        vertical-align: middle;\n    }\n\n    .dataframe tbody tr th {\n        vertical-align: top;\n    }\n\n    .dataframe thead th {\n        text-align: right;\n    }\n</style>\n<table border=\"1\" class=\"dataframe\">\n  <thead>\n    <tr style=\"text-align: right;\">\n      <th></th>\n      <th>pid</th>\n      <th>Time</th>\n      <th>Age</th>\n      <th>Temp</th>\n      <th>RRate</th>\n      <th>Glucose</th>\n      <th>ABPm</th>\n      <th>ABPd</th>\n      <th>SpO2</th>\n      <th>Heartrate</th>\n      <th>ABPs</th>\n    </tr>\n  </thead>\n  <tbody>\n    <tr>\n      <th>0</th>\n      <td>1</td>\n      <td>3</td>\n      <td>34.0</td>\n      <td>36.0</td>\n      <td>16.0</td>\n      <td>NaN</td>\n      <td>84.0</td>\n      <td>61.0</td>\n      <td>100.0</td>\n      <td>94.0</td>\n      <td>142.0</td>\n    </tr>\n    <tr>\n      <th>1</th>\n      <td>1</td>\n      <td>4</td>\n      <td>34.0</td>\n      <td>36.0</td>\n      <td>16.0</td>\n      <td>NaN</td>\n      <td>81.0</td>\n      <td>62.5</td>\n      <td>100.0</td>\n      <td>99.0</td>\n      <td>125.0</td>\n    </tr>\n    <tr>\n      <th>2</th>\n      <td>1</td>\n      <td>5</td>\n      <td>34.0</td>\n      <td>36.0</td>\n      <td>18.0</td>\n      <td>NaN</td>\n      <td>74.0</td>\n      <td>59.0</td>\n      <td>100.0</td>\n      <td>92.0</td>\n      <td>110.0</td>\n    </tr>\n    <tr>\n      <th>3</th>\n      <td>1</td>\n      <td>6</td>\n      <td>34.0</td>\n      <td>37.0</td>\n      <td>18.0</td>\n      <td>NaN</td>\n      <td>66.0</td>\n      <td>49.5</td>\n      <td>100.0</td>\n      <td>88.0</td>\n      <td>104.0</td>\n    </tr>\n    <tr>\n      <th>4</th>\n      <td>1</td>\n      <td>7</td>\n      <td>34.0</td>\n      <td>NaN</td>\n      <td>18.0</td>\n      <td>NaN</td>\n      <td>63.0</td>\n      <td>48.0</td>\n      <td>100.0</td>\n      <td>81.0</td>\n      <td>100.0</td>\n    </tr>\n    <tr>\n      <th>...</th>\n      <td>...</td>\n      <td>...</td>\n      <td>...</td>\n      <td>...</td>\n      <td>...</td>\n      <td>...</td>\n      <td>...</td>\n      <td>...</td>\n      <td>...</td>\n      <td>...</td>\n      <td>...</td>\n    </tr>\n    <tr>\n      <th>227935</th>\n      <td>9999</td>\n      <td>8</td>\n      <td>85.0</td>\n      <td>NaN</td>\n      <td>17.0</td>\n      <td>NaN</td>\n      <td>78.0</td>\n      <td>NaN</td>\n      <td>NaN</td>\n      <td>80.0</td>\n      <td>110.0</td>\n    </tr>\n    <tr>\n      <th>227936</th>\n      <td>9999</td>\n      <td>9</td>\n      <td>85.0</td>\n      <td>NaN</td>\n      <td>15.0</td>\n      <td>NaN</td>\n      <td>88.0</td>\n      <td>NaN</td>\n      <td>NaN</td>\n      <td>83.0</td>\n      <td>123.0</td>\n    </tr>\n    <tr>\n      <th>227937</th>\n      <td>9999</td>\n      <td>10</td>\n      <td>85.0</td>\n      <td>36.0</td>\n      <td>22.0</td>\n      <td>NaN</td>\n      <td>97.0</td>\n      <td>NaN</td>\n      <td>98.0</td>\n      <td>80.0</td>\n      <td>138.0</td>\n    </tr>\n    <tr>\n      <th>227938</th>\n      <td>9999</td>\n      <td>11</td>\n      <td>85.0</td>\n      <td>NaN</td>\n      <td>22.0</td>\n      <td>NaN</td>\n      <td>84.0</td>\n      <td>NaN</td>\n      <td>98.0</td>\n      <td>75.0</td>\n      <td>125.0</td>\n    </tr>\n    <tr>\n      <th>227939</th>\n      <td>9999</td>\n      <td>12</td>\n      <td>85.0</td>\n      <td>NaN</td>\n      <td>24.0</td>\n      <td>NaN</td>\n      <td>85.0</td>\n      <td>NaN</td>\n      <td>NaN</td>\n      <td>79.0</td>\n      <td>128.0</td>\n    </tr>\n  </tbody>\n</table>\n<p>227940 rows × 11 columns</p>\n</div>"
     },
     "metadata": {},
     "execution_count": 2
    }
   ],
   "source": [
    "mv_row_indices = (X.isnull().sum()/ X.shape[0])*100 > 80\n",
    "drop_ind = []\n",
    "for i in range (len(mv_row_indices.values)):\n",
    "    if mv_row_indices.values[i]: drop_ind += [i]\n",
    "\n",
    "X_val = X.drop(X.columns[drop_ind], axis=1)\n",
    "X_val"
   ]
  },
  {
   "cell_type": "code",
   "execution_count": 3,
   "metadata": {},
   "outputs": [
    {
     "output_type": "execute_result",
     "data": {
      "text/plain": [
       "array([[-8.51212785e-01, -1.70642596e+00, -1.63225346e+00, ...,\n",
       "         9.06244608e-01, -9.38927981e-01, -9.54503395e-01],\n",
       "       [-1.27529265e+00,  5.42565645e-01,  2.72206792e-14, ...,\n",
       "         1.30533115e-01, -5.75995797e-01,  6.38688101e-01],\n",
       "       [-1.06325272e+00,  3.60214974e-01, -3.54773847e+00, ...,\n",
       "        -2.57322632e-01,  1.72257470e+00, -2.98483367e-01],\n",
       "       ...,\n",
       "       [-3.05306244e-03, -5.51538380e-01,  2.83231550e-01, ...,\n",
       "         9.06244608e-01,  6.33778148e-01, -1.28251341e+00],\n",
       "       [-1.27529265e+00,  1.63666967e+00,  2.72206792e-14, ...,\n",
       "         9.06244608e-01,  9.36221634e-01,  1.57585957e+00],\n",
       "       [-1.27529265e+00,  1.39353544e+00,  2.72206792e-14, ...,\n",
       "        -1.10235233e-14, -3.34041008e-01,  2.63819514e-01]])"
      ]
     },
     "metadata": {},
     "execution_count": 3
    }
   ],
   "source": [
    "imp = SimpleImputer(missing_values=np.nan, strategy='mean').fit(X_val)\n",
    "X_val = imp.transform(X_val)\n",
    "scaler = preprocessing.StandardScaler().fit(X_val)\n",
    "X_val = scaler.transform(X_val)\n",
    "X_val = X_val[:,1:]\n",
    "X_val = reara12(X_val)\n",
    "X_val"
   ]
  },
  {
   "cell_type": "code",
   "execution_count": 4,
   "metadata": {},
   "outputs": [],
   "source": [
    "##adjust X_test\n",
    "X_test_val = X_test.drop(X.columns[drop_ind], axis=1)\n",
    "X_test_val = imp.transform(X_test_val)\n",
    "X_test_val = scaler.transform(X_test_val)\n",
    "X_test_val = X_test_val[:, 1:]\n",
    "X_test_val = reara12(X_test_val)"
   ]
  },
  {
   "cell_type": "code",
   "execution_count": 5,
   "metadata": {},
   "outputs": [
    {
     "output_type": "execute_result",
     "data": {
      "text/plain": [
       "0.43528243650281784"
      ]
     },
     "metadata": {},
     "execution_count": 5
    }
   ],
   "source": [
    "##training models\n",
    "m = linear_model.Ridge(alpha=0.5).fit(X_val, y[\"LABEL_RRate\"].values)\n",
    "m.score(X_val, y[\"LABEL_RRate\"].values)"
   ]
  },
  {
   "cell_type": "code",
   "execution_count": 6,
   "metadata": {},
   "outputs": [
    {
     "output_type": "execute_result",
     "data": {
      "text/plain": [
       "0.8874524181349948"
      ]
     },
     "metadata": {},
     "execution_count": 6
    }
   ],
   "source": [
    "##training model\n",
    "label_name = \"LABEL_RRate\"\n",
    "m = KernelRidge(alpha=2.0, kernel=\"poly\", degree=5).fit(X_val, y[label_name].values)\n",
    "m.score(X_val, y[label_name].values)"
   ]
  },
  {
   "cell_type": "code",
   "execution_count": 19,
   "metadata": {},
   "outputs": [
    {
     "output_type": "stream",
     "name": "stderr",
     "text": [
      "C:\\Users\\domin\\.conda\\envs\\intro-ml\\lib\\site-packages\\sklearn\\linear_model\\_ridge.py:188: LinAlgWarning: Ill-conditioned matrix (rcond=5.33076e-17): result may not be accurate.\n  overwrite_a=False)\n"
     ]
    },
    {
     "output_type": "execute_result",
     "data": {
      "text/plain": [
       "0.9615552096602582"
      ]
     },
     "metadata": {},
     "execution_count": 19
    }
   ],
   "source": [
    "##training model\n",
    "label_name = \"LABEL_ABPm\"\n",
    "m = KernelRidge(alpha=1.4, kernel=\"poly\", degree=6).fit(X_val, y[label_name].values)\n",
    "m.score(X_val, y[label_name].values)"
   ]
  },
  {
   "cell_type": "code",
   "execution_count": 21,
   "metadata": {},
   "outputs": [],
   "source": [
    "df = pd.DataFrame(columns=y.columns.values)\n",
    "df[label_name] = m.predict(X_test_val)\n",
    "df.to_csv(label_name + \".csv\")"
   ]
  },
  {
   "cell_type": "code",
   "execution_count": 17,
   "metadata": {},
   "outputs": [
    {
     "output_type": "execute_result",
     "data": {
      "text/plain": [
       "       pid LABEL_BaseExcess LABEL_Fibrinogen LABEL_AST LABEL_Alkalinephos  \\\n",
       "0      NaN              NaN              NaN       NaN                NaN   \n",
       "1      NaN              NaN              NaN       NaN                NaN   \n",
       "2      NaN              NaN              NaN       NaN                NaN   \n",
       "3      NaN              NaN              NaN       NaN                NaN   \n",
       "4      NaN              NaN              NaN       NaN                NaN   \n",
       "...    ...              ...              ...       ...                ...   \n",
       "12659  NaN              NaN              NaN       NaN                NaN   \n",
       "12660  NaN              NaN              NaN       NaN                NaN   \n",
       "12661  NaN              NaN              NaN       NaN                NaN   \n",
       "12662  NaN              NaN              NaN       NaN                NaN   \n",
       "12663  NaN              NaN              NaN       NaN                NaN   \n",
       "\n",
       "      LABEL_Bilirubin_total LABEL_Lactate LABEL_TroponinI LABEL_SaO2  \\\n",
       "0                       NaN           NaN             NaN        NaN   \n",
       "1                       NaN           NaN             NaN        NaN   \n",
       "2                       NaN           NaN             NaN        NaN   \n",
       "3                       NaN           NaN             NaN        NaN   \n",
       "4                       NaN           NaN             NaN        NaN   \n",
       "...                     ...           ...             ...        ...   \n",
       "12659                   NaN           NaN             NaN        NaN   \n",
       "12660                   NaN           NaN             NaN        NaN   \n",
       "12661                   NaN           NaN             NaN        NaN   \n",
       "12662                   NaN           NaN             NaN        NaN   \n",
       "12663                   NaN           NaN             NaN        NaN   \n",
       "\n",
       "      LABEL_Bilirubin_direct LABEL_EtCO2 LABEL_Sepsis LABEL_RRate  LABEL_ABPm  \\\n",
       "0                        NaN         NaN          NaN         NaN   86.284593   \n",
       "1                        NaN         NaN          NaN         NaN   90.677904   \n",
       "2                        NaN         NaN          NaN         NaN   78.526634   \n",
       "3                        NaN         NaN          NaN         NaN   77.649211   \n",
       "4                        NaN         NaN          NaN         NaN   77.127554   \n",
       "...                      ...         ...          ...         ...         ...   \n",
       "12659                    NaN         NaN          NaN         NaN   73.906821   \n",
       "12660                    NaN         NaN          NaN         NaN   83.523914   \n",
       "12661                    NaN         NaN          NaN         NaN   67.398512   \n",
       "12662                    NaN         NaN          NaN         NaN  105.937314   \n",
       "12663                    NaN         NaN          NaN         NaN   78.000254   \n",
       "\n",
       "      LABEL_SpO2 LABEL_Heartrate  \n",
       "0            NaN             NaN  \n",
       "1            NaN             NaN  \n",
       "2            NaN             NaN  \n",
       "3            NaN             NaN  \n",
       "4            NaN             NaN  \n",
       "...          ...             ...  \n",
       "12659        NaN             NaN  \n",
       "12660        NaN             NaN  \n",
       "12661        NaN             NaN  \n",
       "12662        NaN             NaN  \n",
       "12663        NaN             NaN  \n",
       "\n",
       "[12664 rows x 16 columns]"
      ],
      "text/html": "<div>\n<style scoped>\n    .dataframe tbody tr th:only-of-type {\n        vertical-align: middle;\n    }\n\n    .dataframe tbody tr th {\n        vertical-align: top;\n    }\n\n    .dataframe thead th {\n        text-align: right;\n    }\n</style>\n<table border=\"1\" class=\"dataframe\">\n  <thead>\n    <tr style=\"text-align: right;\">\n      <th></th>\n      <th>pid</th>\n      <th>LABEL_BaseExcess</th>\n      <th>LABEL_Fibrinogen</th>\n      <th>LABEL_AST</th>\n      <th>LABEL_Alkalinephos</th>\n      <th>LABEL_Bilirubin_total</th>\n      <th>LABEL_Lactate</th>\n      <th>LABEL_TroponinI</th>\n      <th>LABEL_SaO2</th>\n      <th>LABEL_Bilirubin_direct</th>\n      <th>LABEL_EtCO2</th>\n      <th>LABEL_Sepsis</th>\n      <th>LABEL_RRate</th>\n      <th>LABEL_ABPm</th>\n      <th>LABEL_SpO2</th>\n      <th>LABEL_Heartrate</th>\n    </tr>\n  </thead>\n  <tbody>\n    <tr>\n      <th>0</th>\n      <td>NaN</td>\n      <td>NaN</td>\n      <td>NaN</td>\n      <td>NaN</td>\n      <td>NaN</td>\n      <td>NaN</td>\n      <td>NaN</td>\n      <td>NaN</td>\n      <td>NaN</td>\n      <td>NaN</td>\n      <td>NaN</td>\n      <td>NaN</td>\n      <td>NaN</td>\n      <td>86.284593</td>\n      <td>NaN</td>\n      <td>NaN</td>\n    </tr>\n    <tr>\n      <th>1</th>\n      <td>NaN</td>\n      <td>NaN</td>\n      <td>NaN</td>\n      <td>NaN</td>\n      <td>NaN</td>\n      <td>NaN</td>\n      <td>NaN</td>\n      <td>NaN</td>\n      <td>NaN</td>\n      <td>NaN</td>\n      <td>NaN</td>\n      <td>NaN</td>\n      <td>NaN</td>\n      <td>90.677904</td>\n      <td>NaN</td>\n      <td>NaN</td>\n    </tr>\n    <tr>\n      <th>2</th>\n      <td>NaN</td>\n      <td>NaN</td>\n      <td>NaN</td>\n      <td>NaN</td>\n      <td>NaN</td>\n      <td>NaN</td>\n      <td>NaN</td>\n      <td>NaN</td>\n      <td>NaN</td>\n      <td>NaN</td>\n      <td>NaN</td>\n      <td>NaN</td>\n      <td>NaN</td>\n      <td>78.526634</td>\n      <td>NaN</td>\n      <td>NaN</td>\n    </tr>\n    <tr>\n      <th>3</th>\n      <td>NaN</td>\n      <td>NaN</td>\n      <td>NaN</td>\n      <td>NaN</td>\n      <td>NaN</td>\n      <td>NaN</td>\n      <td>NaN</td>\n      <td>NaN</td>\n      <td>NaN</td>\n      <td>NaN</td>\n      <td>NaN</td>\n      <td>NaN</td>\n      <td>NaN</td>\n      <td>77.649211</td>\n      <td>NaN</td>\n      <td>NaN</td>\n    </tr>\n    <tr>\n      <th>4</th>\n      <td>NaN</td>\n      <td>NaN</td>\n      <td>NaN</td>\n      <td>NaN</td>\n      <td>NaN</td>\n      <td>NaN</td>\n      <td>NaN</td>\n      <td>NaN</td>\n      <td>NaN</td>\n      <td>NaN</td>\n      <td>NaN</td>\n      <td>NaN</td>\n      <td>NaN</td>\n      <td>77.127554</td>\n      <td>NaN</td>\n      <td>NaN</td>\n    </tr>\n    <tr>\n      <th>...</th>\n      <td>...</td>\n      <td>...</td>\n      <td>...</td>\n      <td>...</td>\n      <td>...</td>\n      <td>...</td>\n      <td>...</td>\n      <td>...</td>\n      <td>...</td>\n      <td>...</td>\n      <td>...</td>\n      <td>...</td>\n      <td>...</td>\n      <td>...</td>\n      <td>...</td>\n      <td>...</td>\n    </tr>\n    <tr>\n      <th>12659</th>\n      <td>NaN</td>\n      <td>NaN</td>\n      <td>NaN</td>\n      <td>NaN</td>\n      <td>NaN</td>\n      <td>NaN</td>\n      <td>NaN</td>\n      <td>NaN</td>\n      <td>NaN</td>\n      <td>NaN</td>\n      <td>NaN</td>\n      <td>NaN</td>\n      <td>NaN</td>\n      <td>73.906821</td>\n      <td>NaN</td>\n      <td>NaN</td>\n    </tr>\n    <tr>\n      <th>12660</th>\n      <td>NaN</td>\n      <td>NaN</td>\n      <td>NaN</td>\n      <td>NaN</td>\n      <td>NaN</td>\n      <td>NaN</td>\n      <td>NaN</td>\n      <td>NaN</td>\n      <td>NaN</td>\n      <td>NaN</td>\n      <td>NaN</td>\n      <td>NaN</td>\n      <td>NaN</td>\n      <td>83.523914</td>\n      <td>NaN</td>\n      <td>NaN</td>\n    </tr>\n    <tr>\n      <th>12661</th>\n      <td>NaN</td>\n      <td>NaN</td>\n      <td>NaN</td>\n      <td>NaN</td>\n      <td>NaN</td>\n      <td>NaN</td>\n      <td>NaN</td>\n      <td>NaN</td>\n      <td>NaN</td>\n      <td>NaN</td>\n      <td>NaN</td>\n      <td>NaN</td>\n      <td>NaN</td>\n      <td>67.398512</td>\n      <td>NaN</td>\n      <td>NaN</td>\n    </tr>\n    <tr>\n      <th>12662</th>\n      <td>NaN</td>\n      <td>NaN</td>\n      <td>NaN</td>\n      <td>NaN</td>\n      <td>NaN</td>\n      <td>NaN</td>\n      <td>NaN</td>\n      <td>NaN</td>\n      <td>NaN</td>\n      <td>NaN</td>\n      <td>NaN</td>\n      <td>NaN</td>\n      <td>NaN</td>\n      <td>105.937314</td>\n      <td>NaN</td>\n      <td>NaN</td>\n    </tr>\n    <tr>\n      <th>12663</th>\n      <td>NaN</td>\n      <td>NaN</td>\n      <td>NaN</td>\n      <td>NaN</td>\n      <td>NaN</td>\n      <td>NaN</td>\n      <td>NaN</td>\n      <td>NaN</td>\n      <td>NaN</td>\n      <td>NaN</td>\n      <td>NaN</td>\n      <td>NaN</td>\n      <td>NaN</td>\n      <td>78.000254</td>\n      <td>NaN</td>\n      <td>NaN</td>\n    </tr>\n  </tbody>\n</table>\n<p>12664 rows × 16 columns</p>\n</div>"
     },
     "metadata": {},
     "execution_count": 17
    }
   ],
   "source": [
    "df"
   ]
  },
  {
   "cell_type": "code",
   "execution_count": null,
   "metadata": {},
   "outputs": [],
   "source": []
  }
 ],
 "metadata": {
  "kernelspec": {
   "name": "python379jvsc74a57bd0c56c7b53604c82ed2ea2e19c2de68fa3f40bca9d93089830ae21fd907ad8d0d0",
   "display_name": "Python 3.7.9 64-bit ('intro-ml': conda)"
  },
  "language_info": {
   "codemirror_mode": {
    "name": "ipython",
    "version": 3
   },
   "file_extension": ".py",
   "mimetype": "text/x-python",
   "name": "python",
   "nbconvert_exporter": "python",
   "pygments_lexer": "ipython3",
   "version": "3.7.9"
  }
 },
 "nbformat": 4,
 "nbformat_minor": 4
}