{
 "cells": [
  {
   "cell_type": "code",
   "execution_count": 27,
   "metadata": {},
   "outputs": [],
   "source": [
    "import pandas as pd\n",
    "import numpy as np\n",
    "import math\n",
    "from sklearn import svm\n",
    "from sklearn import preprocessing\n",
    "from sklearn import ensemble\n",
    "from sklearn.metrics import roc_auc_score\n",
    "from sklearn.preprocessing import StandardScaler\n",
    "from sklearn.ensemble import RandomForestClassifier\n",
    "from sklearn.ensemble import RandomForestRegressor\n",
    "\n",
    "##init X train         \n",
    "X = pd.read_csv(\"train_features.csv\")\n",
    "\n",
    "##init y train\n",
    "y = pd.read_csv(\"train_labels.csv\")\n",
    "\n",
    "##init X train\n",
    "X_test = pd.read_csv(\"test_features.csv\")\n",
    "\n",
    "##rearange 12 samples to one, because it's a time series\n",
    "def widen(X, time_series_amount):\n",
    "    return pd.DataFrame(data=X.values.reshape(int(X.shape[0] / time_series_amount), X.shape[1] * time_series_amount))\n",
    "\n",
    "def fill_time_series(X, time_series_amount=12, median=None):\n",
    "    \n",
    "    if median is None: \n",
    "        median = X.median()   \n",
    "    \n",
    "    X_filled = pd.DataFrame(columns=X.columns)\n",
    "    for i in range(0, X.shape[0], time_series_amount):\n",
    "         series = X.iloc[i:i + time_series_amount,:].mean()\n",
    "         X_filled_12 = X.iloc[i:i + time_series_amount,:].fillna(series)\n",
    "         X_filled = X_filled.append(X_filled_12)\n",
    "        \n",
    "    return X_filled.fillna(median), median\n",
    "\n",
    "def drop_features(X, featureNames):\n",
    "    return X.drop(featureNames, axis = 1)\n",
    "\n",
    "\n",
    "def write_out(target_label_predictions, target_label, y_df, folder_path):\n",
    "    df = pd.DataFrame(columns=y.columns.values)\n",
    "    df[target_label] = target_label_predictions\n",
    "    df.to_csv(folder_path + \"/\" + target_label + \".csv\", index=False)\n",
    "    \n",
    "\n",
    "def pp_X_and_X_test(X, X_test, drop_features_list, time_series_amount=12):\n",
    "    ##train set pp\n",
    "    X = drop_features(X, drop_features_list)\n",
    "    X, median = fill_time_series(X, time_series_amount)\n",
    "    scaler = StandardScaler().fit(X)\n",
    "    X = pd.DataFrame(data=scaler.transform(X), columns=X.columns)\n",
    "    X = widen(X, time_series_amount)\n",
    "    \n",
    "    ##test set pp\n",
    "    X_test = drop_features(X_test, drop_features_list)\n",
    "    X_test, _ = fill_time_series(X_test, time_series_amount, median)\n",
    "    X_test = pd.DataFrame(data=scaler.transform(X_test), columns=X_test.columns)\n",
    "    X_test = widen(X_test, time_series_amount)\n",
    "    \n",
    "    return X, X_test\n",
    "    \n",
    "def train_GB_w_writeout_train_and_test(X, y, target_label, X_test, random_state):\n",
    "    print(\"start calculation: \" + target_label)\n",
    "    gb = ensemble.GradientBoostingClassifier(random_state = random_state).fit(X, y[target_label])\n",
    "    \n",
    "    ##compare with train_labels & save file\n",
    "    y_predict = gb.predict_proba(X)\n",
    "    y_true = y[target_label]\n",
    "    print(roc_auc_score(y_true, y_predict))\n",
    "    write_out(y_predict, target_label, y, \"predict_train_labels\")\n",
    "    \n",
    "    ##predict and save to file\n",
    "    y_test_predict = gb.predict_proba(X_test)\n",
    "    write_out(y_test_predict, target_label, y, \"predict_test_labels\")\n",
    "    print(\"finish calculation: \" + target_label)\n",
    "    \n",
    "    return gb\n",
    "\n",
    "\n",
    "#def train_RandomForest(X,)\n",
    "\n",
    "X, X_test = pp_X_and_X_test(X, X_test, [])"
   ]
  },
  {
   "cell_type": "code",
   "execution_count": 41,
   "metadata": {},
   "outputs": [
    {
     "name": "stdout",
     "output_type": "stream",
     "text": [
      "start calculation: LABEL_BaseExcess\n"
     ]
    },
    {
     "name": "stderr",
     "output_type": "stream",
     "text": [
      "C:\\Users\\lucan\\Anaconda3\\lib\\site-packages\\sklearn\\ensemble\\forest.py:245: FutureWarning: The default value of n_estimators will change from 10 in version 0.20 to 100 in 0.22.\n",
      "  \"10 in version 0.20 to 100 in 0.22.\", FutureWarning)\n"
     ]
    },
    {
     "name": "stdout",
     "output_type": "stream",
     "text": [
      "inhouse score\n",
      "0.9993511460018227\n",
      "finish calculation: LABEL_BaseExcess\n",
      "outside score\n",
      "0.8043177358959832\n",
      "start calculation: LABEL_Fibrinogen\n"
     ]
    },
    {
     "name": "stderr",
     "output_type": "stream",
     "text": [
      "C:\\Users\\lucan\\Anaconda3\\lib\\site-packages\\sklearn\\ensemble\\forest.py:245: FutureWarning: The default value of n_estimators will change from 10 in version 0.20 to 100 in 0.22.\n",
      "  \"10 in version 0.20 to 100 in 0.22.\", FutureWarning)\n"
     ]
    },
    {
     "name": "stdout",
     "output_type": "stream",
     "text": [
      "inhouse score\n",
      "0.9997460536425471\n",
      "finish calculation: LABEL_Fibrinogen\n",
      "outside score\n",
      "0.5734553193222548\n",
      "start calculation: LABEL_AST\n"
     ]
    },
    {
     "name": "stderr",
     "output_type": "stream",
     "text": [
      "C:\\Users\\lucan\\Anaconda3\\lib\\site-packages\\sklearn\\ensemble\\forest.py:245: FutureWarning: The default value of n_estimators will change from 10 in version 0.20 to 100 in 0.22.\n",
      "  \"10 in version 0.20 to 100 in 0.22.\", FutureWarning)\n"
     ]
    },
    {
     "name": "stdout",
     "output_type": "stream",
     "text": [
      "inhouse score\n",
      "0.9993867349157162\n",
      "finish calculation: LABEL_AST\n",
      "outside score\n",
      "0.6134294735429524\n",
      "start calculation: LABEL_Alkalinephos\n"
     ]
    },
    {
     "name": "stderr",
     "output_type": "stream",
     "text": [
      "C:\\Users\\lucan\\Anaconda3\\lib\\site-packages\\sklearn\\ensemble\\forest.py:245: FutureWarning: The default value of n_estimators will change from 10 in version 0.20 to 100 in 0.22.\n",
      "  \"10 in version 0.20 to 100 in 0.22.\", FutureWarning)\n"
     ]
    },
    {
     "name": "stdout",
     "output_type": "stream",
     "text": [
      "inhouse score\n",
      "0.9992746648733615\n",
      "finish calculation: LABEL_Alkalinephos\n",
      "outside score\n",
      "0.6072644935900395\n",
      "start calculation: LABEL_Bilirubin_total\n"
     ]
    },
    {
     "name": "stderr",
     "output_type": "stream",
     "text": [
      "C:\\Users\\lucan\\Anaconda3\\lib\\site-packages\\sklearn\\ensemble\\forest.py:245: FutureWarning: The default value of n_estimators will change from 10 in version 0.20 to 100 in 0.22.\n",
      "  \"10 in version 0.20 to 100 in 0.22.\", FutureWarning)\n"
     ]
    },
    {
     "name": "stdout",
     "output_type": "stream",
     "text": [
      "inhouse score\n",
      "0.9993090232747809\n",
      "finish calculation: LABEL_Bilirubin_total\n",
      "outside score\n",
      "0.5891479654093056\n",
      "start calculation: LABEL_Lactate\n"
     ]
    },
    {
     "name": "stderr",
     "output_type": "stream",
     "text": [
      "C:\\Users\\lucan\\Anaconda3\\lib\\site-packages\\sklearn\\ensemble\\forest.py:245: FutureWarning: The default value of n_estimators will change from 10 in version 0.20 to 100 in 0.22.\n",
      "  \"10 in version 0.20 to 100 in 0.22.\", FutureWarning)\n"
     ]
    },
    {
     "name": "stdout",
     "output_type": "stream",
     "text": [
      "inhouse score\n",
      "0.9993028853620072\n",
      "finish calculation: LABEL_Lactate\n",
      "outside score\n",
      "0.6242306707629288\n",
      "start calculation: LABEL_TroponinI\n"
     ]
    },
    {
     "name": "stderr",
     "output_type": "stream",
     "text": [
      "C:\\Users\\lucan\\Anaconda3\\lib\\site-packages\\sklearn\\ensemble\\forest.py:245: FutureWarning: The default value of n_estimators will change from 10 in version 0.20 to 100 in 0.22.\n",
      "  \"10 in version 0.20 to 100 in 0.22.\", FutureWarning)\n"
     ]
    },
    {
     "name": "stdout",
     "output_type": "stream",
     "text": [
      "inhouse score\n",
      "0.9996092321755028\n",
      "finish calculation: LABEL_TroponinI\n",
      "outside score\n",
      "0.6908002336448598\n",
      "start calculation: LABEL_SaO2\n"
     ]
    },
    {
     "name": "stderr",
     "output_type": "stream",
     "text": [
      "C:\\Users\\lucan\\Anaconda3\\lib\\site-packages\\sklearn\\ensemble\\forest.py:245: FutureWarning: The default value of n_estimators will change from 10 in version 0.20 to 100 in 0.22.\n",
      "  \"10 in version 0.20 to 100 in 0.22.\", FutureWarning)\n"
     ]
    },
    {
     "name": "stdout",
     "output_type": "stream",
     "text": [
      "inhouse score\n",
      "0.9993289176496845\n",
      "finish calculation: LABEL_SaO2\n",
      "outside score\n",
      "0.6667923803437822\n",
      "start calculation: LABEL_Bilirubin_direct\n"
     ]
    },
    {
     "name": "stderr",
     "output_type": "stream",
     "text": [
      "C:\\Users\\lucan\\Anaconda3\\lib\\site-packages\\sklearn\\ensemble\\forest.py:245: FutureWarning: The default value of n_estimators will change from 10 in version 0.20 to 100 in 0.22.\n",
      "  \"10 in version 0.20 to 100 in 0.22.\", FutureWarning)\n"
     ]
    },
    {
     "name": "stdout",
     "output_type": "stream",
     "text": [
      "inhouse score\n",
      "0.9998603350090461\n",
      "finish calculation: LABEL_Bilirubin_direct\n",
      "outside score\n",
      "0.5657999226242594\n",
      "start calculation: LABEL_EtCO2\n"
     ]
    },
    {
     "name": "stderr",
     "output_type": "stream",
     "text": [
      "C:\\Users\\lucan\\Anaconda3\\lib\\site-packages\\sklearn\\ensemble\\forest.py:245: FutureWarning: The default value of n_estimators will change from 10 in version 0.20 to 100 in 0.22.\n",
      "  \"10 in version 0.20 to 100 in 0.22.\", FutureWarning)\n"
     ]
    },
    {
     "name": "stdout",
     "output_type": "stream",
     "text": [
      "inhouse score\n",
      "0.9997929158531755\n",
      "finish calculation: LABEL_EtCO2\n",
      "outside score\n",
      "0.7530677814512493\n",
      "start calculation: LABEL_Sepsis\n"
     ]
    },
    {
     "name": "stderr",
     "output_type": "stream",
     "text": [
      "C:\\Users\\lucan\\Anaconda3\\lib\\site-packages\\sklearn\\ensemble\\forest.py:245: FutureWarning: The default value of n_estimators will change from 10 in version 0.20 to 100 in 0.22.\n",
      "  \"10 in version 0.20 to 100 in 0.22.\", FutureWarning)\n"
     ]
    },
    {
     "name": "stdout",
     "output_type": "stream",
     "text": [
      "inhouse score\n",
      "0.9998248903947964\n",
      "finish calculation: LABEL_Sepsis\n",
      "outside score\n",
      "0.49902696691687515\n"
     ]
    }
   ],
   "source": [
    "from sklearn.metrics import r2_score\n",
    "\n",
    "X_pre_test = pd.DataFrame(X.iloc[15196:,:], columns=X.columns)\n",
    "y_pre_test = pd.DataFrame(y.iloc[15196:,:], columns=y.columns)\n",
    "X_pre_train = pd.DataFrame(X.iloc[:15195,:], columns=X.columns)\n",
    "y_pre_train = pd.DataFrame(y.iloc[:15195,:], columns=y.columns)\n",
    "\n",
    "def train_RF_Classifier_w_writeout_train_and_test(X, y, target_label, X_test, random_state=0, n_estimators=100):\n",
    "    print(\"start calculation: \" + target_label)\n",
    "    rf = RandomForestClassifier(random_state = random_state, n_estimators = n_estimators).fit(X, y[target_label])\n",
    "    \n",
    "    ##compare with train_labels & save file\n",
    "    y_predict = rf.predict_proba(X)[:,1]\n",
    "    y_true = y[target_label]\n",
    "    print(\"train score\")\n",
    "    print(roc_auc_score(y_true, y_predict))\n",
    "    write_out(y_predict, target_label, y, \"predict_train_labels\")\n",
    "    \n",
    "    ##predict and save to file\n",
    "    y_test_predict = rf.predict_proba(X_test)[:,1]\n",
    "    write_out(y_test_predict, target_label, y, \"predict_test_labels\")\n",
    "    print(\"finish calculation: \" + target_label)\n",
    "    \n",
    "    return rf\n",
    "\n",
    "def train_RF_Regressor_w_writeout_train_and_test(X, y, target_label, X_test, random_state=0, n_estimators=100):\n",
    "    print(\"start calculation: \" + target_label)\n",
    "    rf = RandomForestRegressor(random_state = random_state, n_estimators = n_estimators).fit(X, y[target_label])\n",
    "    \n",
    "    ##compare with train_labels & save file\n",
    "    y_predict = rf.predict(X)\n",
    "    y_true = y[target_label]\n",
    "    print(r2_score(y_true, y_predict))\n",
    "    write_out(y_predict, target_label, y, \"predict_train_labels\")\n",
    "    \n",
    "    ##predict and save to file\n",
    "    y_test_predict = rf.predict(X_test)\n",
    "    write_out(y_test_predict, target_label, y, \"predict_test_labels\")\n",
    "    print(\"finish calculation: \" + target_label)\n",
    "    \n",
    "    return rf\n",
    "\n",
    "def mymodel(X_train, y_train, X_pre_test, y_pre_test, X_test, random_state=0, n_estimators=100):\n",
    "    LABELS = [\"LABEL_BaseExcess\",\"LABEL_Fibrinogen\",\"LABEL_AST\",\"LABEL_Alkalinephos\",\"LABEL_Bilirubin_total\",\"LABEL_Lactate\",\"LABEL_TroponinI\",\"LABEL_SaO2\",\"LABEL_Bilirubin_direct\",\"LABEL_EtCO2\",\"LABEL_Sepsis\"]\n",
    "    for label in LABELS:\n",
    "\n",
    "        classifier_model = train_RF_Classifier_w_writeout_train_and_test(X_train, y_train, label, X_test, random_state, n_estimators)\n",
    "        y_pred_pretest = classifier_model.predict(X_pre_test)\n",
    "        print(\"test score\")\n",
    "        print(roc_auc_score(y_pre_test[label], y_pred_pretest))\n",
    "\n",
    "mymodel(X_pre_train, y_pre_train, X_pre_test, y_pre_test, X_test)\n",
    "\n",
    "\n",
    "\n",
    "\n",
    "\n",
    "\n",
    "#classifier_model = train_RF_Classifier_w_writeout_train_and_test(X_pre_train, y_pre_train, \"LABEL_BaseExcess\", X_test, 0, 100)\n",
    "\n",
    "#regressor_model = train_RF_Regressor_w_writeout_train_and_test(X, y, \"LABEL_RRate\", X_test, 0, 10)"
   ]
  },
  {
   "cell_type": "code",
   "execution_count": null,
   "metadata": {},
   "outputs": [],
   "source": []
  }
 ],
 "metadata": {
  "kernelspec": {
   "display_name": "Python 3",
   "language": "python",
   "name": "python3"
  },
  "language_info": {
   "codemirror_mode": {
    "name": "ipython",
    "version": 3
   },
   "file_extension": ".py",
   "mimetype": "text/x-python",
   "name": "python",
   "nbconvert_exporter": "python",
   "pygments_lexer": "ipython3",
   "version": "3.7.4"
  }
 },
 "nbformat": 4,
 "nbformat_minor": 2
}
