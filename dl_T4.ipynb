{
 "cells": [
  {
   "cell_type": "code",
   "execution_count": 1,
   "metadata": {},
   "outputs": [],
   "source": [
    "import pandas as pd\n",
    "import numpy as np\n",
    "import math\n",
    "from sklearn import svm\n",
    "from sklearn import preprocessing\n",
    "from sklearn.impute import SimpleImputer\n",
    "from sklearn.metrics import roc_auc_score\n",
    "\n",
    "##rearange 12 samples to one, because it's a time series\n",
    "def reara12(arr):\n",
    "    old_arr = arr\n",
    "    rows, cols = len(old_arr), len(old_arr[0])\n",
    "    new_arr = np.arange(rows * cols, dtype=float).reshape((int)(rows / 12), cols * 12)\n",
    "    \n",
    "    i_new = 0\n",
    "    for i_old in range (0, rows, 12):        \n",
    "        new_row = old_arr[i_old]\n",
    "        for i in range (1, 12):\n",
    "            new_row = np.append(new_row, old_arr[i_old + i])                    \n",
    "        new_arr[i_new] = new_row\n",
    "        i_new += 1\n",
    "        \n",
    "    return new_arr\n",
    "\n",
    "##sometimes overflows\n",
    "def sigmoid(x):\n",
    "    sig = (1 / (1 + np.exp(-x)))\n",
    "    return sig\n",
    "\n",
    "sigmoid_v = np.vectorize(sigmoid)"
   ]
  },
  {
   "cell_type": "code",
   "execution_count": 2,
   "metadata": {},
   "outputs": [],
   "source": [
    "##init X         \n",
    "X = pd.read_csv(\"train_features.csv\")\n",
    "\n",
    "##init y\n",
    "y = pd.read_csv(\"train_labels.csv\")\n"
   ]
  },
  {
   "cell_type": "code",
   "execution_count": 3,
   "metadata": {},
   "outputs": [
    {
     "data": {
      "image/png": "[encoded data removed]",
      "text/plain": [
       "<Figure size 432x288 with 1 Axes>"
      ]
     },
     "metadata": {
      "needs_background": "light"
     },
     "output_type": "display_data"
    }
   ],
   "source": [
    "# outlier removal\n",
    "# followed by \n",
    "X.EtCO2.hist(bins = 50);"
   ]
  },
  {
   "cell_type": "code",
   "execution_count": 4,
   "metadata": {
    "scrolled": false
   },
   "outputs": [
    {
     "data": {
      "text/plain": [
       "pid                 False\n",
       "Time                False\n",
       "Age                 False\n",
       "EtCO2                True\n",
       "PTT                  True\n",
       "BUN                  True\n",
       "Lactate              True\n",
       "Temp                False\n",
       "Hgb                  True\n",
       "HCO3                 True\n",
       "BaseExcess           True\n",
       "RRate               False\n",
       "Fibrinogen           True\n",
       "Phosphate            True\n",
       "WBC                  True\n",
       "Creatinine           True\n",
       "PaCO2                True\n",
       "AST                  True\n",
       "FiO2                False\n",
       "Platelets            True\n",
       "SaO2                 True\n",
       "Glucose             False\n",
       "ABPm                False\n",
       "Magnesium            True\n",
       "Potassium           False\n",
       "ABPd                False\n",
       "Calcium              True\n",
       "Alkalinephos         True\n",
       "SpO2                False\n",
       "Bilirubin_direct     True\n",
       "Chloride             True\n",
       "Hct                 False\n",
       "Heartrate           False\n",
       "Bilirubin_total      True\n",
       "TroponinI            True\n",
       "ABPs                False\n",
       "pH                  False\n",
       "dtype: bool"
      ]
     },
     "execution_count": 4,
     "metadata": {},
     "output_type": "execute_result"
    }
   ],
   "source": [
    "mv_row_indices = (X.isnull().sum()/ X.shape[0])*100 > 90\n",
    "mv_row_indices"
   ]
  },
  {
   "cell_type": "code",
   "execution_count": 5,
   "metadata": {},
   "outputs": [
    {
     "data": {
      "text/plain": [
       "[3,\n",
       " 4,\n",
       " 5,\n",
       " 6,\n",
       " 8,\n",
       " 9,\n",
       " 10,\n",
       " 12,\n",
       " 13,\n",
       " 14,\n",
       " 15,\n",
       " 16,\n",
       " 17,\n",
       " 19,\n",
       " 20,\n",
       " 23,\n",
       " 26,\n",
       " 27,\n",
       " 29,\n",
       " 30,\n",
       " 33,\n",
       " 34]"
      ]
     },
     "execution_count": 5,
     "metadata": {},
     "output_type": "execute_result"
    }
   ],
   "source": [
    "drop_ind = []\n",
    "for i in range (len(mv_row_indices.values)):\n",
    "    if mv_row_indices.values[i]: drop_ind += [i]\n",
    "        \n",
    "drop_ind"
   ]
  },
  {
   "cell_type": "code",
   "execution_count": 6,
   "metadata": {
    "scrolled": false
   },
   "outputs": [
    {
     "data": {
      "text/html": [
       "<div>\n",
       "<style scoped>\n",
       "    .dataframe tbody tr th:only-of-type {\n",
       "        vertical-align: middle;\n",
       "    }\n",
       "\n",
       "    .dataframe tbody tr th {\n",
       "        vertical-align: top;\n",
       "    }\n",
       "\n",
       "    .dataframe thead th {\n",
       "        text-align: right;\n",
       "    }\n",
       "</style>\n",
       "<table border=\"1\" class=\"dataframe\">\n",
       "  <thead>\n",
       "    <tr style=\"text-align: right;\">\n",
       "      <th></th>\n",
       "      <th>pid</th>\n",
       "      <th>Time</th>\n",
       "      <th>Age</th>\n",
       "      <th>Temp</th>\n",
       "      <th>RRate</th>\n",
       "      <th>FiO2</th>\n",
       "      <th>Glucose</th>\n",
       "      <th>ABPm</th>\n",
       "      <th>Potassium</th>\n",
       "      <th>ABPd</th>\n",
       "      <th>SpO2</th>\n",
       "      <th>Hct</th>\n",
       "      <th>Heartrate</th>\n",
       "      <th>ABPs</th>\n",
       "      <th>pH</th>\n",
       "    </tr>\n",
       "  </thead>\n",
       "  <tbody>\n",
       "    <tr>\n",
       "      <th>0</th>\n",
       "      <td>1</td>\n",
       "      <td>3</td>\n",
       "      <td>34.0</td>\n",
       "      <td>36.0</td>\n",
       "      <td>16.0</td>\n",
       "      <td>NaN</td>\n",
       "      <td>NaN</td>\n",
       "      <td>84.0</td>\n",
       "      <td>3.8</td>\n",
       "      <td>61.0</td>\n",
       "      <td>100.0</td>\n",
       "      <td>24.6</td>\n",
       "      <td>94.0</td>\n",
       "      <td>142.0</td>\n",
       "      <td>7.33</td>\n",
       "    </tr>\n",
       "    <tr>\n",
       "      <th>1</th>\n",
       "      <td>1</td>\n",
       "      <td>4</td>\n",
       "      <td>34.0</td>\n",
       "      <td>36.0</td>\n",
       "      <td>16.0</td>\n",
       "      <td>0.5</td>\n",
       "      <td>NaN</td>\n",
       "      <td>81.0</td>\n",
       "      <td>NaN</td>\n",
       "      <td>62.5</td>\n",
       "      <td>100.0</td>\n",
       "      <td>NaN</td>\n",
       "      <td>99.0</td>\n",
       "      <td>125.0</td>\n",
       "      <td>7.33</td>\n",
       "    </tr>\n",
       "    <tr>\n",
       "      <th>2</th>\n",
       "      <td>1</td>\n",
       "      <td>5</td>\n",
       "      <td>34.0</td>\n",
       "      <td>36.0</td>\n",
       "      <td>18.0</td>\n",
       "      <td>0.4</td>\n",
       "      <td>NaN</td>\n",
       "      <td>74.0</td>\n",
       "      <td>NaN</td>\n",
       "      <td>59.0</td>\n",
       "      <td>100.0</td>\n",
       "      <td>NaN</td>\n",
       "      <td>92.0</td>\n",
       "      <td>110.0</td>\n",
       "      <td>7.37</td>\n",
       "    </tr>\n",
       "    <tr>\n",
       "      <th>3</th>\n",
       "      <td>1</td>\n",
       "      <td>6</td>\n",
       "      <td>34.0</td>\n",
       "      <td>37.0</td>\n",
       "      <td>18.0</td>\n",
       "      <td>NaN</td>\n",
       "      <td>NaN</td>\n",
       "      <td>66.0</td>\n",
       "      <td>NaN</td>\n",
       "      <td>49.5</td>\n",
       "      <td>100.0</td>\n",
       "      <td>NaN</td>\n",
       "      <td>88.0</td>\n",
       "      <td>104.0</td>\n",
       "      <td>7.37</td>\n",
       "    </tr>\n",
       "    <tr>\n",
       "      <th>4</th>\n",
       "      <td>1</td>\n",
       "      <td>7</td>\n",
       "      <td>34.0</td>\n",
       "      <td>NaN</td>\n",
       "      <td>18.0</td>\n",
       "      <td>NaN</td>\n",
       "      <td>NaN</td>\n",
       "      <td>63.0</td>\n",
       "      <td>NaN</td>\n",
       "      <td>48.0</td>\n",
       "      <td>100.0</td>\n",
       "      <td>22.4</td>\n",
       "      <td>81.0</td>\n",
       "      <td>100.0</td>\n",
       "      <td>7.41</td>\n",
       "    </tr>\n",
       "    <tr>\n",
       "      <th>...</th>\n",
       "      <td>...</td>\n",
       "      <td>...</td>\n",
       "      <td>...</td>\n",
       "      <td>...</td>\n",
       "      <td>...</td>\n",
       "      <td>...</td>\n",
       "      <td>...</td>\n",
       "      <td>...</td>\n",
       "      <td>...</td>\n",
       "      <td>...</td>\n",
       "      <td>...</td>\n",
       "      <td>...</td>\n",
       "      <td>...</td>\n",
       "      <td>...</td>\n",
       "      <td>...</td>\n",
       "    </tr>\n",
       "    <tr>\n",
       "      <th>227935</th>\n",
       "      <td>9999</td>\n",
       "      <td>8</td>\n",
       "      <td>85.0</td>\n",
       "      <td>NaN</td>\n",
       "      <td>17.0</td>\n",
       "      <td>NaN</td>\n",
       "      <td>NaN</td>\n",
       "      <td>78.0</td>\n",
       "      <td>NaN</td>\n",
       "      <td>NaN</td>\n",
       "      <td>NaN</td>\n",
       "      <td>NaN</td>\n",
       "      <td>80.0</td>\n",
       "      <td>110.0</td>\n",
       "      <td>NaN</td>\n",
       "    </tr>\n",
       "    <tr>\n",
       "      <th>227936</th>\n",
       "      <td>9999</td>\n",
       "      <td>9</td>\n",
       "      <td>85.0</td>\n",
       "      <td>NaN</td>\n",
       "      <td>15.0</td>\n",
       "      <td>NaN</td>\n",
       "      <td>NaN</td>\n",
       "      <td>88.0</td>\n",
       "      <td>NaN</td>\n",
       "      <td>NaN</td>\n",
       "      <td>NaN</td>\n",
       "      <td>NaN</td>\n",
       "      <td>83.0</td>\n",
       "      <td>123.0</td>\n",
       "      <td>NaN</td>\n",
       "    </tr>\n",
       "    <tr>\n",
       "      <th>227937</th>\n",
       "      <td>9999</td>\n",
       "      <td>10</td>\n",
       "      <td>85.0</td>\n",
       "      <td>36.0</td>\n",
       "      <td>22.0</td>\n",
       "      <td>NaN</td>\n",
       "      <td>NaN</td>\n",
       "      <td>97.0</td>\n",
       "      <td>NaN</td>\n",
       "      <td>NaN</td>\n",
       "      <td>98.0</td>\n",
       "      <td>NaN</td>\n",
       "      <td>80.0</td>\n",
       "      <td>138.0</td>\n",
       "      <td>NaN</td>\n",
       "    </tr>\n",
       "    <tr>\n",
       "      <th>227938</th>\n",
       "      <td>9999</td>\n",
       "      <td>11</td>\n",
       "      <td>85.0</td>\n",
       "      <td>NaN</td>\n",
       "      <td>22.0</td>\n",
       "      <td>NaN</td>\n",
       "      <td>NaN</td>\n",
       "      <td>84.0</td>\n",
       "      <td>NaN</td>\n",
       "      <td>NaN</td>\n",
       "      <td>98.0</td>\n",
       "      <td>31.0</td>\n",
       "      <td>75.0</td>\n",
       "      <td>125.0</td>\n",
       "      <td>NaN</td>\n",
       "    </tr>\n",
       "    <tr>\n",
       "      <th>227939</th>\n",
       "      <td>9999</td>\n",
       "      <td>12</td>\n",
       "      <td>85.0</td>\n",
       "      <td>NaN</td>\n",
       "      <td>24.0</td>\n",
       "      <td>NaN</td>\n",
       "      <td>NaN</td>\n",
       "      <td>85.0</td>\n",
       "      <td>NaN</td>\n",
       "      <td>NaN</td>\n",
       "      <td>NaN</td>\n",
       "      <td>NaN</td>\n",
       "      <td>79.0</td>\n",
       "      <td>128.0</td>\n",
       "      <td>NaN</td>\n",
       "    </tr>\n",
       "  </tbody>\n",
       "</table>\n",
       "<p>227940 rows × 15 columns</p>\n",
       "</div>"
      ],
      "text/plain": [
       "         pid  Time   Age  Temp  RRate  FiO2  Glucose  ABPm  Potassium  ABPd  \\\n",
       "0          1     3  34.0  36.0   16.0   NaN      NaN  84.0        3.8  61.0   \n",
       "1          1     4  34.0  36.0   16.0   0.5      NaN  81.0        NaN  62.5   \n",
       "2          1     5  34.0  36.0   18.0   0.4      NaN  74.0        NaN  59.0   \n",
       "3          1     6  34.0  37.0   18.0   NaN      NaN  66.0        NaN  49.5   \n",
       "4          1     7  34.0   NaN   18.0   NaN      NaN  63.0        NaN  48.0   \n",
       "...      ...   ...   ...   ...    ...   ...      ...   ...        ...   ...   \n",
       "227935  9999     8  85.0   NaN   17.0   NaN      NaN  78.0        NaN   NaN   \n",
       "227936  9999     9  85.0   NaN   15.0   NaN      NaN  88.0        NaN   NaN   \n",
       "227937  9999    10  85.0  36.0   22.0   NaN      NaN  97.0        NaN   NaN   \n",
       "227938  9999    11  85.0   NaN   22.0   NaN      NaN  84.0        NaN   NaN   \n",
       "227939  9999    12  85.0   NaN   24.0   NaN      NaN  85.0        NaN   NaN   \n",
       "\n",
       "         SpO2   Hct  Heartrate   ABPs    pH  \n",
       "0       100.0  24.6       94.0  142.0  7.33  \n",
       "1       100.0   NaN       99.0  125.0  7.33  \n",
       "2       100.0   NaN       92.0  110.0  7.37  \n",
       "3       100.0   NaN       88.0  104.0  7.37  \n",
       "4       100.0  22.4       81.0  100.0  7.41  \n",
       "...       ...   ...        ...    ...   ...  \n",
       "227935    NaN   NaN       80.0  110.0   NaN  \n",
       "227936    NaN   NaN       83.0  123.0   NaN  \n",
       "227937   98.0   NaN       80.0  138.0   NaN  \n",
       "227938   98.0  31.0       75.0  125.0   NaN  \n",
       "227939    NaN   NaN       79.0  128.0   NaN  \n",
       "\n",
       "[227940 rows x 15 columns]"
      ]
     },
     "execution_count": 6,
     "metadata": {},
     "output_type": "execute_result"
    }
   ],
   "source": [
    "X_val = X.drop(X.columns[drop_ind], axis=1)\n",
    "X_val"
   ]
  },
  {
   "cell_type": "code",
   "execution_count": 7,
   "metadata": {},
   "outputs": [
    {
     "data": {
      "text/plain": [
       "array([[  3.        ,  34.        ,  36.        , ...,  94.        ,\n",
       "        142.        ,   7.33      ],\n",
       "       [  4.        ,  34.        ,  36.        , ...,  99.        ,\n",
       "        125.        ,   7.33      ],\n",
       "       [  5.        ,  34.        ,  36.        , ...,  92.        ,\n",
       "        110.        ,   7.37      ],\n",
       "       ...,\n",
       "       [ 10.        ,  85.        ,  36.        , ...,  80.        ,\n",
       "        138.        ,   7.36723149],\n",
       "       [ 11.        ,  85.        ,  36.85213586, ...,  75.        ,\n",
       "        125.        ,   7.36723149],\n",
       "       [ 12.        ,  85.        ,  36.85213586, ...,  79.        ,\n",
       "        128.        ,   7.36723149]])"
      ]
     },
     "execution_count": 7,
     "metadata": {},
     "output_type": "execute_result"
    }
   ],
   "source": [
    "imp = SimpleImputer(missing_values=np.nan, strategy='mean')\n",
    "imp.fit(X_val)\n",
    "X_val = imp.transform(X_val)\n",
    "X_val = X_val[:,1:]\n",
    "\n",
    "X_val"
   ]
  },
  {
   "cell_type": "code",
   "execution_count": 8,
   "metadata": {},
   "outputs": [
    {
     "data": {
      "text/plain": [
       "array([[-8.51212785e-01, -1.70642596e+00, -1.63225346e+00, ...,\n",
       "         5.73289450e-01,  9.19839542e-01, -1.51001649e+00],\n",
       "       [-6.39172854e-01, -1.70642596e+00, -1.63225346e+00, ...,\n",
       "         8.75732937e-01,  1.23243794e-01, -1.51001649e+00],\n",
       "       [-4.27132924e-01, -1.70642596e+00, -1.63225346e+00, ...,\n",
       "         4.52312056e-01, -5.79634807e-01,  1.12283693e-01],\n",
       "       ...,\n",
       "       [ 6.33066729e-01,  1.39353544e+00, -1.63225346e+00, ...,\n",
       "        -2.73552311e-01,  7.32405248e-01, -1.08066901e-13],\n",
       "       [ 8.45106660e-01,  1.39353544e+00,  2.72206792e-14, ...,\n",
       "        -5.75995797e-01,  1.23243794e-01, -1.08066901e-13],\n",
       "       [ 1.05714659e+00,  1.39353544e+00,  2.72206792e-14, ...,\n",
       "        -3.34041008e-01,  2.63819514e-01, -1.08066901e-13]])"
      ]
     },
     "execution_count": 8,
     "metadata": {},
     "output_type": "execute_result"
    }
   ],
   "source": [
    "scaler = preprocessing.StandardScaler().fit(X_val)\n",
    "X_val = scaler.transform(X_val)\n",
    "X_val"
   ]
  },
  {
   "cell_type": "code",
   "execution_count": 9,
   "metadata": {},
   "outputs": [
    {
     "data": {
      "text/plain": [
       "array([[-8.51212785e-01, -1.70642596e+00, -1.63225346e+00, ...,\n",
       "        -9.38927981e-01, -9.54503395e-01, -1.08066901e-13],\n",
       "       [-1.27529265e+00,  5.42565645e-01,  2.72206792e-14, ...,\n",
       "        -5.75995797e-01,  6.38688101e-01, -1.08066901e-13],\n",
       "       [-1.06325272e+00,  3.60214974e-01, -3.54773847e+00, ...,\n",
       "         1.72257470e+00, -2.98483367e-01, -1.08066901e-13],\n",
       "       ...,\n",
       "       [-3.05306244e-03, -5.51538380e-01,  2.83231550e-01, ...,\n",
       "         6.33778148e-01, -1.28251341e+00, -1.08066901e-13],\n",
       "       [-1.27529265e+00,  1.63666967e+00,  2.72206792e-14, ...,\n",
       "         9.36221634e-01,  1.57585957e+00, -1.08066901e-13],\n",
       "       [-1.27529265e+00,  1.39353544e+00,  2.72206792e-14, ...,\n",
       "        -3.34041008e-01,  2.63819514e-01, -1.08066901e-13]])"
      ]
     },
     "execution_count": 9,
     "metadata": {},
     "output_type": "execute_result"
    }
   ],
   "source": [
    "X_val = reara12(X_val)\n",
    "X_val"
   ]
  },
  {
   "cell_type": "code",
   "execution_count": 10,
   "metadata": {},
   "outputs": [
    {
     "data": {
      "text/plain": [
       "array([ 6131, 17486, 16852, ...,  6445,  9140, 18009])"
      ]
     },
     "execution_count": 10,
     "metadata": {},
     "output_type": "execute_result"
    }
   ],
   "source": [
    "y_ind0 = np.array(y.index[y[\"LABEL_Sepsis\"] == 0].tolist())\n",
    "y_ind1 = np.array(y.index[y[\"LABEL_Sepsis\"] == 1].tolist())\n",
    "\n",
    "copy_ind = np.random.choice(y_ind1, len(y_ind0) - len(y_ind1), replace=True)\n",
    "copy_ind"
   ]
  },
  {
   "cell_type": "code",
   "execution_count": 11,
   "metadata": {
    "scrolled": true
   },
   "outputs": [
    {
     "data": {
      "text/plain": [
       "array([[-1.27529265e+00, -1.15937395e+00,  2.72206792e-14,\n",
       "         0.00000000e+00, -2.65059517e-17, -1.09971305e-15,\n",
       "         0.00000000e+00,  3.75516567e-15,  0.00000000e+00,\n",
       "        -1.10235233e-14,  0.00000000e+00,  0.00000000e+00,\n",
       "        -1.33180076e-15, -1.08066901e-13, -1.06325272e+00,\n",
       "        -1.15937395e+00,  2.83231550e-01, -1.12733878e+00,\n",
       "        -2.65059517e-17, -1.09971305e-15,  3.19761110e-01,\n",
       "         3.75516567e-15,  4.37967279e-01, -1.10235233e-14,\n",
       "         0.00000000e+00,  5.73289450e-01,  7.32405248e-01,\n",
       "         1.12283693e-01, -8.51212785e-01, -1.15937395e+00,\n",
       "         2.72206792e-14,  0.00000000e+00, -2.65059517e-17,\n",
       "         4.96450469e-01,  0.00000000e+00,  3.75516567e-15,\n",
       "         0.00000000e+00, -1.10235233e-14, -2.64570221e+00,\n",
       "         0.00000000e+00, -1.33180076e-15, -4.75461686e+00,\n",
       "        -6.39172854e-01, -1.15937395e+00,  2.72206792e-14,\n",
       "         0.00000000e+00, -2.65059517e-17, -8.57794491e-01,\n",
       "         0.00000000e+00,  3.75516567e-15,  0.00000000e+00,\n",
       "        -1.10235233e-14, -1.41767626e-01,  0.00000000e+00,\n",
       "        -1.33180076e-15, -1.51001649e+00, -4.27132924e-01,\n",
       "        -1.15937395e+00,  2.72206792e-14, -4.71151739e-01,\n",
       "        -1.21360534e-02, -1.09971305e-15,  1.36757322e+00,\n",
       "         3.75516567e-15,  1.14078271e+00, -1.10235233e-14,\n",
       "         0.00000000e+00,  0.00000000e+00,  1.62271814e+00,\n",
       "        -1.08066901e-13, -2.15092993e-01, -1.15937395e+00,\n",
       "        -1.63225346e+00, -1.34606779e+00, -1.21360534e-02,\n",
       "         1.69592458e+00,  5.78080822e-02,  6.22652232e-01,\n",
       "         1.74411492e-01, -1.10235233e-14, -2.94617436e+00,\n",
       "         8.15244239e-01, -1.57907647e-01, -2.72674163e+00,\n",
       "        -3.05306244e-03, -1.15937395e+00, -1.63225346e+00,\n",
       "        -2.00225483e+00, -3.60104922e-02, -1.09971305e-15,\n",
       "        -5.31586229e-01,  3.75516567e-15, -3.52700082e-01,\n",
       "        -6.45178379e-01,  0.00000000e+00,  1.05719903e+00,\n",
       "        -5.32776234e-01, -1.08066901e-13,  2.08986868e-01,\n",
       "        -1.15937395e+00, -1.63225346e+00, -1.56479680e+00,\n",
       "        -2.65059517e-17, -1.09971305e-15,  2.54272853e-01,\n",
       "         3.75516567e-15,  3.50115350e-01, -2.57322632e-01,\n",
       "         0.00000000e+00,  8.75732937e-01, -1.57907647e-01,\n",
       "        -3.13231667e+00,  4.21026799e-01, -1.15937395e+00,\n",
       "         2.72206792e-14,  0.00000000e+00, -2.65059517e-17,\n",
       "         3.80372330e-01,  0.00000000e+00,  3.75516567e-15,\n",
       "         0.00000000e+00, -1.10235233e-14, -2.64570221e+00,\n",
       "         0.00000000e+00, -1.33180076e-15, -8.81036732e+00,\n",
       "         6.33066729e-01, -1.15937395e+00,  2.72206792e-14,\n",
       "         0.00000000e+00, -2.65059517e-17,  6.12528609e-01,\n",
       "         0.00000000e+00,  3.75516567e-15,  0.00000000e+00,\n",
       "        -1.10235233e-14,  0.00000000e+00,  0.00000000e+00,\n",
       "        -1.33180076e-15, -5.56576695e+00,  8.45106660e-01,\n",
       "        -1.15937395e+00, -3.54773847e+00, -2.87717088e+00,\n",
       "        -2.40732728e-02, -1.09971305e-15,  3.85249366e-01,\n",
       "         3.75516567e-15,  3.50115350e-01, -1.10235233e-14,\n",
       "         0.00000000e+00,  1.42013121e+00,  6.38688101e-01,\n",
       "        -1.08066901e-13,  1.05714659e+00, -1.15937395e+00,\n",
       "        -3.54773847e+00, -3.36937143e-02,  3.56128242e-02,\n",
       "         1.57984644e+00, -4.00609716e-01,  1.04544630e+00,\n",
       "        -3.08774117e-01, -1.42088987e+00,  4.61570808e+00,\n",
       "         1.29915382e+00, -4.85917661e-01, -2.32116658e+00]])"
      ]
     },
     "execution_count": 11,
     "metadata": {},
     "output_type": "execute_result"
    }
   ],
   "source": [
    "os_samples = X_val[copy_ind[0]]\n",
    "os_samples = os_samples.reshape(1,os_samples.shape[0])\n",
    "os_samples"
   ]
  },
  {
   "cell_type": "code",
   "execution_count": 12,
   "metadata": {},
   "outputs": [
    {
     "data": {
      "text/plain": [
       "array([[-1.27529265e+00, -1.15937395e+00,  2.72206792e-14, ...,\n",
       "         1.29915382e+00, -4.85917661e-01, -2.32116658e+00],\n",
       "       [ 2.08986868e-01, -8.55456164e-01, -1.63225346e+00, ...,\n",
       "        -3.15975221e-02, -1.04822054e+00, -1.08066901e-13],\n",
       "       [-1.27529265e+00, -9.77023278e-01,  2.72206792e-14, ...,\n",
       "         3.31334661e-01, -1.18879626e+00, -1.08066901e-13],\n",
       "       ...,\n",
       "       [-6.39172854e-01, -7.94672607e-01,  2.83231550e-01, ...,\n",
       "         0.00000000e+00, -1.33180076e-15, -8.40479227e+00],\n",
       "       [-6.39172854e-01,  4.81782088e-01, -3.54773847e+00, ...,\n",
       "         2.88911752e-02, -9.54503395e-01, -2.72674163e+00],\n",
       "       [-1.27529265e+00, -1.26053481e-01,  2.72206792e-14, ...,\n",
       "        -6.36484495e-01,  2.93475820e+00, -1.08066901e-13]])"
      ]
     },
     "execution_count": 12,
     "metadata": {},
     "output_type": "execute_result"
    }
   ],
   "source": [
    "for i in copy_ind[1:]:\n",
    "    copy_sample = X_val[i]\n",
    "    os_samples = np.concatenate((os_samples, copy_sample.reshape(1, copy_sample.shape[0])), axis=0)\n",
    "os_samples"
   ]
  },
  {
   "cell_type": "code",
   "execution_count": 14,
   "metadata": {},
   "outputs": [
    {
     "data": {
      "text/plain": [
       "array([[-8.51212785e-01, -1.70642596e+00, -1.63225346e+00, ...,\n",
       "        -9.38927981e-01, -9.54503395e-01, -1.08066901e-13],\n",
       "       [-1.27529265e+00,  5.42565645e-01,  2.72206792e-14, ...,\n",
       "        -5.75995797e-01,  6.38688101e-01, -1.08066901e-13],\n",
       "       [-1.06325272e+00,  3.60214974e-01, -3.54773847e+00, ...,\n",
       "         1.72257470e+00, -2.98483367e-01, -1.08066901e-13],\n",
       "       ...,\n",
       "       [-6.39172854e-01, -7.94672607e-01,  2.83231550e-01, ...,\n",
       "         0.00000000e+00, -1.33180076e-15, -8.40479227e+00],\n",
       "       [-6.39172854e-01,  4.81782088e-01, -3.54773847e+00, ...,\n",
       "         2.88911752e-02, -9.54503395e-01, -2.72674163e+00],\n",
       "       [-1.27529265e+00, -1.26053481e-01,  2.72206792e-14, ...,\n",
       "        -6.36484495e-01,  2.93475820e+00, -1.08066901e-13]])"
      ]
     },
     "execution_count": 14,
     "metadata": {},
     "output_type": "execute_result"
    }
   ],
   "source": [
    "X_val = np.concatenate((X_val, os_samples), axis=0)\n",
    "X_val"
   ]
  },
  {
   "cell_type": "code",
   "execution_count": 15,
   "metadata": {},
   "outputs": [
    {
     "data": {
      "text/plain": [
       "(35814,)"
      ]
     },
     "execution_count": 15,
     "metadata": {},
     "output_type": "execute_result"
    }
   ],
   "source": [
    "y_val = np.concatenate((y[\"LABEL_Sepsis\"].values, np.ones(len(os_samples), dtype = float)), axis=0)\n",
    "\n",
    "y_val.shape"
   ]
  },
  {
   "cell_type": "code",
   "execution_count": 16,
   "metadata": {},
   "outputs": [
    {
     "data": {
      "text/plain": [
       "SVC(C=0.8, decision_function_shape='ovo', degree=5, kernel='poly')"
      ]
     },
     "execution_count": 16,
     "metadata": {},
     "output_type": "execute_result"
    }
   ],
   "source": [
    "m = svm.SVC(C=0.8, kernel=\"poly\", degree=5, decision_function_shape=\"ovo\")\n",
    "m.fit(X_val,y_val)"
   ]
  },
  {
   "cell_type": "code",
   "execution_count": 20,
   "metadata": {},
   "outputs": [
    {
     "data": {
      "text/plain": [
       "array([-0.99999997, -0.99999975, -0.99999976, ..., -1.05182365,\n",
       "       -0.99999973, -0.9999997 ])"
      ]
     },
     "execution_count": 20,
     "metadata": {},
     "output_type": "execute_result"
    }
   ],
   "source": [
    "X_test = X.drop(X.columns[drop_ind], axis=1)\n",
    "X_test = imp.transform(X_test)\n",
    "X_test = X_test[:,1:]\n",
    "X_test = scaler.transform(X_test)\n",
    "X_test = reara12(X_test)\n",
    "\n",
    "y_dec = m.decision_function(X_test)\n",
    "y_dec_prob = sigmoid_v(y_dec)\n",
    "y_true = y[\"LABEL_Sepsis\"]\n",
    "##print(roc_auc_score(y_true, y_dec_prob))\n",
    "y_dec"
   ]
  },
  {
   "cell_type": "code",
   "execution_count": 21,
   "metadata": {},
   "outputs": [
    {
     "data": {
      "text/plain": [
       "0.99053304204074"
      ]
     },
     "execution_count": 21,
     "metadata": {},
     "output_type": "execute_result"
    }
   ],
   "source": [
    "roc_auc_score(y_true, y_dec_prob)"
   ]
  },
  {
   "cell_type": "code",
   "execution_count": null,
   "metadata": {},
   "outputs": [],
   "source": []
  }
 ],
 "metadata": {
  "kernelspec": {
   "display_name": "Python 3",
   "language": "python",
   "name": "python3"
  },
  "language_info": {
   "codemirror_mode": {
    "name": "ipython",
    "version": 3
   },
   "file_extension": ".py",
   "mimetype": "text/x-python",
   "name": "python",
   "nbconvert_exporter": "python",
   "pygments_lexer": "ipython3",
   "version": "3.8.5"
  }
 },
 "nbformat": 4,
 "nbformat_minor": 4
}
